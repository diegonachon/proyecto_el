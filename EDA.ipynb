{
 "cells": [
  {
   "cell_type": "code",
   "execution_count": 1,
   "id": "6ca7be19-bc60-4e15-a137-8ae77287c871",
   "metadata": {},
   "outputs": [],
   "source": [
    "import pandas as pd\n",
    "import numpy as np\n",
    "import seaborn as sns\n",
    "from matplotlib import pyplot as plt"
   ]
  },
  {
   "cell_type": "code",
   "execution_count": 2,
   "id": "71c76451-c848-435c-afe2-797a3b190c52",
   "metadata": {},
   "outputs": [],
   "source": [
    "df_detections = pd.read_csv('detections_SNe_v7.0.1.csv', index_col = 0)\n",
    "df_matches = pd.read_csv('dfcrossmatches_prioritized_v7.0.1.csv')"
   ]
  },
  {
   "cell_type": "code",
   "execution_count": 3,
   "id": "0d3e2063-46fe-4c6b-a1d9-e20604f8b85b",
   "metadata": {},
   "outputs": [
    {
     "data": {
      "text/html": [
       "<div>\n",
       "<style scoped>\n",
       "    .dataframe tbody tr th:only-of-type {\n",
       "        vertical-align: middle;\n",
       "    }\n",
       "\n",
       "    .dataframe tbody tr th {\n",
       "        vertical-align: top;\n",
       "    }\n",
       "\n",
       "    .dataframe thead th {\n",
       "        text-align: right;\n",
       "    }\n",
       "</style>\n",
       "<table border=\"1\" class=\"dataframe\">\n",
       "  <thead>\n",
       "    <tr style=\"text-align: right;\">\n",
       "      <th></th>\n",
       "      <th>objectId</th>\n",
       "      <th>fid</th>\n",
       "      <th>isdiffpos</th>\n",
       "      <th>sigmapsf</th>\n",
       "      <th>field</th>\n",
       "      <th>fwhm</th>\n",
       "      <th>dec</th>\n",
       "      <th>magpsf</th>\n",
       "      <th>rcid</th>\n",
       "      <th>ra</th>\n",
       "      <th>...</th>\n",
       "      <th>sgscore3</th>\n",
       "      <th>neargaia</th>\n",
       "      <th>sgscore1</th>\n",
       "      <th>mjd</th>\n",
       "      <th>corrected</th>\n",
       "      <th>magpsf_corr</th>\n",
       "      <th>sigmapsf_corr</th>\n",
       "      <th>sigmapsf_corr_ext</th>\n",
       "      <th>dubious</th>\n",
       "      <th>has_stamp</th>\n",
       "    </tr>\n",
       "  </thead>\n",
       "  <tbody>\n",
       "    <tr>\n",
       "      <th>0</th>\n",
       "      <td>ZTF18aahvndq</td>\n",
       "      <td>1</td>\n",
       "      <td>1.0</td>\n",
       "      <td>0.028791</td>\n",
       "      <td>626</td>\n",
       "      <td>3.59</td>\n",
       "      <td>27.008621</td>\n",
       "      <td>15.385100</td>\n",
       "      <td>34</td>\n",
       "      <td>198.722678</td>\n",
       "      <td>...</td>\n",
       "      <td>0.5</td>\n",
       "      <td>78.019280</td>\n",
       "      <td>0.175976</td>\n",
       "      <td>58991.302095</td>\n",
       "      <td>False</td>\n",
       "      <td>NaN</td>\n",
       "      <td>NaN</td>\n",
       "      <td>NaN</td>\n",
       "      <td>False</td>\n",
       "      <td>True</td>\n",
       "    </tr>\n",
       "    <tr>\n",
       "      <th>1</th>\n",
       "      <td>ZTF18aahvndq</td>\n",
       "      <td>1</td>\n",
       "      <td>1.0</td>\n",
       "      <td>0.031231</td>\n",
       "      <td>626</td>\n",
       "      <td>2.57</td>\n",
       "      <td>27.008635</td>\n",
       "      <td>15.712121</td>\n",
       "      <td>34</td>\n",
       "      <td>198.722679</td>\n",
       "      <td>...</td>\n",
       "      <td>0.5</td>\n",
       "      <td>78.022800</td>\n",
       "      <td>0.175976</td>\n",
       "      <td>59000.260914</td>\n",
       "      <td>False</td>\n",
       "      <td>NaN</td>\n",
       "      <td>NaN</td>\n",
       "      <td>NaN</td>\n",
       "      <td>False</td>\n",
       "      <td>True</td>\n",
       "    </tr>\n",
       "    <tr>\n",
       "      <th>2</th>\n",
       "      <td>ZTF18aahvndq</td>\n",
       "      <td>1</td>\n",
       "      <td>1.0</td>\n",
       "      <td>0.032161</td>\n",
       "      <td>626</td>\n",
       "      <td>1.98</td>\n",
       "      <td>27.008647</td>\n",
       "      <td>16.072975</td>\n",
       "      <td>34</td>\n",
       "      <td>198.722653</td>\n",
       "      <td>...</td>\n",
       "      <td>0.5</td>\n",
       "      <td>78.111310</td>\n",
       "      <td>0.175976</td>\n",
       "      <td>59004.192674</td>\n",
       "      <td>False</td>\n",
       "      <td>NaN</td>\n",
       "      <td>NaN</td>\n",
       "      <td>NaN</td>\n",
       "      <td>False</td>\n",
       "      <td>True</td>\n",
       "    </tr>\n",
       "    <tr>\n",
       "      <th>3</th>\n",
       "      <td>ZTF18aahvndq</td>\n",
       "      <td>1</td>\n",
       "      <td>1.0</td>\n",
       "      <td>0.049931</td>\n",
       "      <td>626</td>\n",
       "      <td>2.75</td>\n",
       "      <td>27.008624</td>\n",
       "      <td>17.708502</td>\n",
       "      <td>34</td>\n",
       "      <td>198.722660</td>\n",
       "      <td>...</td>\n",
       "      <td>0.5</td>\n",
       "      <td>78.077545</td>\n",
       "      <td>0.175976</td>\n",
       "      <td>59021.227604</td>\n",
       "      <td>False</td>\n",
       "      <td>NaN</td>\n",
       "      <td>NaN</td>\n",
       "      <td>NaN</td>\n",
       "      <td>False</td>\n",
       "      <td>True</td>\n",
       "    </tr>\n",
       "    <tr>\n",
       "      <th>4</th>\n",
       "      <td>ZTF18aahvndq</td>\n",
       "      <td>1</td>\n",
       "      <td>1.0</td>\n",
       "      <td>0.028520</td>\n",
       "      <td>626</td>\n",
       "      <td>3.13</td>\n",
       "      <td>27.008636</td>\n",
       "      <td>15.617474</td>\n",
       "      <td>34</td>\n",
       "      <td>198.722660</td>\n",
       "      <td>...</td>\n",
       "      <td>0.5</td>\n",
       "      <td>78.083150</td>\n",
       "      <td>0.175976</td>\n",
       "      <td>58986.223646</td>\n",
       "      <td>False</td>\n",
       "      <td>NaN</td>\n",
       "      <td>NaN</td>\n",
       "      <td>NaN</td>\n",
       "      <td>False</td>\n",
       "      <td>True</td>\n",
       "    </tr>\n",
       "  </tbody>\n",
       "</table>\n",
       "<p>5 rows × 31 columns</p>\n",
       "</div>"
      ],
      "text/plain": [
       "       objectId  fid  isdiffpos  sigmapsf  field  fwhm        dec     magpsf  \\\n",
       "0  ZTF18aahvndq    1        1.0  0.028791    626  3.59  27.008621  15.385100   \n",
       "1  ZTF18aahvndq    1        1.0  0.031231    626  2.57  27.008635  15.712121   \n",
       "2  ZTF18aahvndq    1        1.0  0.032161    626  1.98  27.008647  16.072975   \n",
       "3  ZTF18aahvndq    1        1.0  0.049931    626  2.75  27.008624  17.708502   \n",
       "4  ZTF18aahvndq    1        1.0  0.028520    626  3.13  27.008636  15.617474   \n",
       "\n",
       "   rcid          ra  ...  sgscore3   neargaia  sgscore1           mjd  \\\n",
       "0    34  198.722678  ...       0.5  78.019280  0.175976  58991.302095   \n",
       "1    34  198.722679  ...       0.5  78.022800  0.175976  59000.260914   \n",
       "2    34  198.722653  ...       0.5  78.111310  0.175976  59004.192674   \n",
       "3    34  198.722660  ...       0.5  78.077545  0.175976  59021.227604   \n",
       "4    34  198.722660  ...       0.5  78.083150  0.175976  58986.223646   \n",
       "\n",
       "   corrected  magpsf_corr  sigmapsf_corr  sigmapsf_corr_ext  dubious  \\\n",
       "0      False          NaN            NaN                NaN    False   \n",
       "1      False          NaN            NaN                NaN    False   \n",
       "2      False          NaN            NaN                NaN    False   \n",
       "3      False          NaN            NaN                NaN    False   \n",
       "4      False          NaN            NaN                NaN    False   \n",
       "\n",
       "   has_stamp  \n",
       "0       True  \n",
       "1       True  \n",
       "2       True  \n",
       "3       True  \n",
       "4       True  \n",
       "\n",
       "[5 rows x 31 columns]"
      ]
     },
     "execution_count": 3,
     "metadata": {},
     "output_type": "execute_result"
    }
   ],
   "source": [
    "df_detections.head()"
   ]
  },
  {
   "cell_type": "code",
   "execution_count": 4,
   "id": "ce897aff-ec13-41fc-bd65-b95ba5a4e6d3",
   "metadata": {},
   "outputs": [
    {
     "data": {
      "text/plain": [
       "2068"
      ]
     },
     "execution_count": 4,
     "metadata": {},
     "output_type": "execute_result"
    }
   ],
   "source": [
    "len(df_detections['objectId'].unique())"
   ]
  },
  {
   "cell_type": "code",
   "execution_count": 5,
   "id": "5da3f916-e15b-45e4-8e31-0e5fe9a1381e",
   "metadata": {},
   "outputs": [
    {
     "data": {
      "text/html": [
       "<div>\n",
       "<style scoped>\n",
       "    .dataframe tbody tr th:only-of-type {\n",
       "        vertical-align: middle;\n",
       "    }\n",
       "\n",
       "    .dataframe tbody tr th {\n",
       "        vertical-align: top;\n",
       "    }\n",
       "\n",
       "    .dataframe thead th {\n",
       "        text-align: right;\n",
       "    }\n",
       "</style>\n",
       "<table border=\"1\" class=\"dataframe\">\n",
       "  <thead>\n",
       "    <tr style=\"text-align: right;\">\n",
       "      <th></th>\n",
       "      <th>oid</th>\n",
       "      <th>classALeRCE</th>\n",
       "      <th>ra</th>\n",
       "      <th>dec</th>\n",
       "      <th>period</th>\n",
       "      <th>source</th>\n",
       "      <th>id_source</th>\n",
       "      <th>class_source</th>\n",
       "      <th>separation_arcsec</th>\n",
       "    </tr>\n",
       "  </thead>\n",
       "  <tbody>\n",
       "    <tr>\n",
       "      <th>0</th>\n",
       "      <td>ZTF19abegncu</td>\n",
       "      <td>AGN</td>\n",
       "      <td>357.296363</td>\n",
       "      <td>-8.941186</td>\n",
       "      <td>NaN</td>\n",
       "      <td>Oh2015</td>\n",
       "      <td>5.8772718059579e+17</td>\n",
       "      <td>AGN_galaxy_dominated</td>\n",
       "      <td>0.243081</td>\n",
       "    </tr>\n",
       "    <tr>\n",
       "      <th>1</th>\n",
       "      <td>ZTF18acejdhu</td>\n",
       "      <td>AGN</td>\n",
       "      <td>11.958444</td>\n",
       "      <td>-10.496615</td>\n",
       "      <td>NaN</td>\n",
       "      <td>Oh2015</td>\n",
       "      <td>5.877272256953059e+17</td>\n",
       "      <td>AGN_galaxy_dominated</td>\n",
       "      <td>0.301126</td>\n",
       "    </tr>\n",
       "    <tr>\n",
       "      <th>2</th>\n",
       "      <td>ZTF18acdzene</td>\n",
       "      <td>AGN</td>\n",
       "      <td>17.478620</td>\n",
       "      <td>-10.110250</td>\n",
       "      <td>NaN</td>\n",
       "      <td>Oh2015</td>\n",
       "      <td>5.877271789938934e+17</td>\n",
       "      <td>AGN_galaxy_dominated</td>\n",
       "      <td>0.158643</td>\n",
       "    </tr>\n",
       "    <tr>\n",
       "      <th>3</th>\n",
       "      <td>ZTF18abwzuzw</td>\n",
       "      <td>AGN</td>\n",
       "      <td>25.038255</td>\n",
       "      <td>-10.352430</td>\n",
       "      <td>NaN</td>\n",
       "      <td>Oh2015</td>\n",
       "      <td>5.877272294485526e+17</td>\n",
       "      <td>AGN_galaxy_dominated</td>\n",
       "      <td>0.485322</td>\n",
       "    </tr>\n",
       "    <tr>\n",
       "      <th>4</th>\n",
       "      <td>ZTF19abmposz</td>\n",
       "      <td>AGN</td>\n",
       "      <td>26.670031</td>\n",
       "      <td>-8.354787</td>\n",
       "      <td>NaN</td>\n",
       "      <td>Oh2015</td>\n",
       "      <td>5.877271806085038e+17</td>\n",
       "      <td>AGN_galaxy_dominated</td>\n",
       "      <td>0.213990</td>\n",
       "    </tr>\n",
       "    <tr>\n",
       "      <th>...</th>\n",
       "      <td>...</td>\n",
       "      <td>...</td>\n",
       "      <td>...</td>\n",
       "      <td>...</td>\n",
       "      <td>...</td>\n",
       "      <td>...</td>\n",
       "      <td>...</td>\n",
       "      <td>...</td>\n",
       "      <td>...</td>\n",
       "    </tr>\n",
       "    <tr>\n",
       "      <th>173874</th>\n",
       "      <td>ZTF18abikbvc</td>\n",
       "      <td>LPV</td>\n",
       "      <td>286.720222</td>\n",
       "      <td>24.733440</td>\n",
       "      <td>NaN</td>\n",
       "      <td>GAIADR2VS</td>\n",
       "      <td>4.533629080944307e+18</td>\n",
       "      <td>MIRA_SR</td>\n",
       "      <td>0.299487</td>\n",
       "    </tr>\n",
       "    <tr>\n",
       "      <th>173875</th>\n",
       "      <td>ZTF19aamtoyb</td>\n",
       "      <td>LPV</td>\n",
       "      <td>99.257590</td>\n",
       "      <td>-15.567786</td>\n",
       "      <td>NaN</td>\n",
       "      <td>GAIADR2VS</td>\n",
       "      <td>2.9501070744892713e+18</td>\n",
       "      <td>MIRA_SR</td>\n",
       "      <td>0.299597</td>\n",
       "    </tr>\n",
       "    <tr>\n",
       "      <th>173876</th>\n",
       "      <td>ZTF19abeesgk</td>\n",
       "      <td>LPV</td>\n",
       "      <td>277.499222</td>\n",
       "      <td>-27.002742</td>\n",
       "      <td>NaN</td>\n",
       "      <td>GAIADR2VS</td>\n",
       "      <td>4.0518162825206625e+18</td>\n",
       "      <td>MIRA_SR</td>\n",
       "      <td>0.299766</td>\n",
       "    </tr>\n",
       "    <tr>\n",
       "      <th>173877</th>\n",
       "      <td>ZTF18abnubuy</td>\n",
       "      <td>LPV</td>\n",
       "      <td>292.053754</td>\n",
       "      <td>38.418277</td>\n",
       "      <td>NaN</td>\n",
       "      <td>GAIADR2VS</td>\n",
       "      <td>2.0526959231045647e+18</td>\n",
       "      <td>MIRA_SR</td>\n",
       "      <td>0.299777</td>\n",
       "    </tr>\n",
       "    <tr>\n",
       "      <th>173878</th>\n",
       "      <td>ZTF18abgqxlw</td>\n",
       "      <td>LPV</td>\n",
       "      <td>280.809676</td>\n",
       "      <td>12.634607</td>\n",
       "      <td>330.8572533</td>\n",
       "      <td>GAIADR2VS</td>\n",
       "      <td>4.505379156900003e+18</td>\n",
       "      <td>MIRA_SR</td>\n",
       "      <td>0.119874</td>\n",
       "    </tr>\n",
       "  </tbody>\n",
       "</table>\n",
       "<p>173879 rows × 9 columns</p>\n",
       "</div>"
      ],
      "text/plain": [
       "                 oid classALeRCE          ra        dec       period  \\\n",
       "0       ZTF19abegncu         AGN  357.296363  -8.941186          NaN   \n",
       "1       ZTF18acejdhu         AGN   11.958444 -10.496615          NaN   \n",
       "2       ZTF18acdzene         AGN   17.478620 -10.110250          NaN   \n",
       "3       ZTF18abwzuzw         AGN   25.038255 -10.352430          NaN   \n",
       "4       ZTF19abmposz         AGN   26.670031  -8.354787          NaN   \n",
       "...              ...         ...         ...        ...          ...   \n",
       "173874  ZTF18abikbvc         LPV  286.720222  24.733440          NaN   \n",
       "173875  ZTF19aamtoyb         LPV   99.257590 -15.567786          NaN   \n",
       "173876  ZTF19abeesgk         LPV  277.499222 -27.002742          NaN   \n",
       "173877  ZTF18abnubuy         LPV  292.053754  38.418277          NaN   \n",
       "173878  ZTF18abgqxlw         LPV  280.809676  12.634607  330.8572533   \n",
       "\n",
       "           source               id_source          class_source  \\\n",
       "0          Oh2015     5.8772718059579e+17  AGN_galaxy_dominated   \n",
       "1          Oh2015   5.877272256953059e+17  AGN_galaxy_dominated   \n",
       "2          Oh2015   5.877271789938934e+17  AGN_galaxy_dominated   \n",
       "3          Oh2015   5.877272294485526e+17  AGN_galaxy_dominated   \n",
       "4          Oh2015   5.877271806085038e+17  AGN_galaxy_dominated   \n",
       "...           ...                     ...                   ...   \n",
       "173874  GAIADR2VS   4.533629080944307e+18               MIRA_SR   \n",
       "173875  GAIADR2VS  2.9501070744892713e+18               MIRA_SR   \n",
       "173876  GAIADR2VS  4.0518162825206625e+18               MIRA_SR   \n",
       "173877  GAIADR2VS  2.0526959231045647e+18               MIRA_SR   \n",
       "173878  GAIADR2VS   4.505379156900003e+18               MIRA_SR   \n",
       "\n",
       "        separation_arcsec  \n",
       "0                0.243081  \n",
       "1                0.301126  \n",
       "2                0.158643  \n",
       "3                0.485322  \n",
       "4                0.213990  \n",
       "...                   ...  \n",
       "173874           0.299487  \n",
       "173875           0.299597  \n",
       "173876           0.299766  \n",
       "173877           0.299777  \n",
       "173878           0.119874  \n",
       "\n",
       "[173879 rows x 9 columns]"
      ]
     },
     "execution_count": 5,
     "metadata": {},
     "output_type": "execute_result"
    }
   ],
   "source": [
    "df_matches"
   ]
  },
  {
   "cell_type": "code",
   "execution_count": 6,
   "id": "b173b60f-027a-4ab9-a8b1-89f51e0462fe",
   "metadata": {},
   "outputs": [
    {
     "name": "stdout",
     "output_type": "stream",
     "text": [
      "<class 'pandas.core.frame.DataFrame'>\n",
      "RangeIndex: 173879 entries, 0 to 173878\n",
      "Data columns (total 9 columns):\n",
      " #   Column             Non-Null Count   Dtype  \n",
      "---  ------             --------------   -----  \n",
      " 0   oid                173879 non-null  object \n",
      " 1   classALeRCE        173879 non-null  object \n",
      " 2   ra                 173879 non-null  float64\n",
      " 3   dec                173879 non-null  float64\n",
      " 4   period             92683 non-null   object \n",
      " 5   source             173879 non-null  object \n",
      " 6   id_source          173879 non-null  object \n",
      " 7   class_source       173879 non-null  object \n",
      " 8   separation_arcsec  173879 non-null  float64\n",
      "dtypes: float64(3), object(6)\n",
      "memory usage: 11.9+ MB\n"
     ]
    }
   ],
   "source": [
    "df_matches.info()"
   ]
  },
  {
   "cell_type": "code",
   "execution_count": 7,
   "id": "efe74669-d2cd-4b31-9915-dc608889b5c0",
   "metadata": {},
   "outputs": [
    {
     "data": {
      "text/plain": [
       "Index(['objectId', 'fid', 'isdiffpos', 'sigmapsf', 'field', 'fwhm', 'dec',\n",
       "       'magpsf', 'rcid', 'ra', 'sky', 'rb', 'ssmagnr', 'distpsnr3', 'sgscore2',\n",
       "       'maggaiabright', 'distpsnr2', 'distpsnr1', 'maggaia', 'exptime', 'drb',\n",
       "       'sgscore3', 'neargaia', 'sgscore1', 'mjd', 'corrected', 'magpsf_corr',\n",
       "       'sigmapsf_corr', 'sigmapsf_corr_ext', 'dubious', 'has_stamp'],\n",
       "      dtype='object')"
      ]
     },
     "execution_count": 7,
     "metadata": {},
     "output_type": "execute_result"
    }
   ],
   "source": [
    "df_detections.columns"
   ]
  },
  {
   "cell_type": "code",
   "execution_count": 8,
   "id": "5bbd194c-c9a6-4415-882c-af5c2cf2fa71",
   "metadata": {},
   "outputs": [
    {
     "data": {
      "text/plain": [
       "('rb',\n",
       " 'error',\n",
       " 'magpsf',\n",
       " 'band',\n",
       " 'sigmapsf',\n",
       " 'time',\n",
       " 'ra',\n",
       " 'magnitude',\n",
       " 'dec',\n",
       " 'isdiffpos')"
      ]
     },
     "execution_count": 8,
     "metadata": {},
     "output_type": "execute_result"
    }
   ],
   "source": [
    "'rb', 'error', 'magpsf', 'band', 'sigmapsf', 'time', 'ra', 'magnitude', 'dec', 'isdiffpos'"
   ]
  },
  {
   "cell_type": "markdown",
   "id": "40d8a6de-d81b-4c99-8bcc-94c4ac330a47",
   "metadata": {},
   "source": [
    "**Solo atributos relevantes por dataset**"
   ]
  },
  {
   "cell_type": "code",
   "execution_count": 9,
   "id": "be591365-f9f1-4552-aa78-505255eb2e20",
   "metadata": {},
   "outputs": [],
   "source": [
    "df_detections = df_detections[['objectId', 'fid', 'magpsf', 'sigmapsf', 'magpsf_corr', 'sigmapsf_corr', 'mjd', 'isdiffpos', 'rb', 'ra', 'dec', 'sgscore1']]\n",
    "df_detections.columns = ['oid', 'fid', 'magpsf', 'sigmapsf', 'magpsf_corr', 'sigmapsf_corr', 'mjd', 'isdiffpos', 'rb', 'ra', 'dec', 'sgscore1']"
   ]
  },
  {
   "cell_type": "code",
   "execution_count": 10,
   "id": "d9ae90af-55e3-43a3-84dc-21dfba6a9f6b",
   "metadata": {},
   "outputs": [
    {
     "data": {
      "text/html": [
       "<div>\n",
       "<style scoped>\n",
       "    .dataframe tbody tr th:only-of-type {\n",
       "        vertical-align: middle;\n",
       "    }\n",
       "\n",
       "    .dataframe tbody tr th {\n",
       "        vertical-align: top;\n",
       "    }\n",
       "\n",
       "    .dataframe thead th {\n",
       "        text-align: right;\n",
       "    }\n",
       "</style>\n",
       "<table border=\"1\" class=\"dataframe\">\n",
       "  <thead>\n",
       "    <tr style=\"text-align: right;\">\n",
       "      <th></th>\n",
       "      <th>oid</th>\n",
       "      <th>fid</th>\n",
       "      <th>magpsf</th>\n",
       "      <th>sigmapsf</th>\n",
       "      <th>magpsf_corr</th>\n",
       "      <th>sigmapsf_corr</th>\n",
       "      <th>mjd</th>\n",
       "      <th>isdiffpos</th>\n",
       "      <th>rb</th>\n",
       "      <th>ra</th>\n",
       "      <th>dec</th>\n",
       "      <th>sgscore1</th>\n",
       "    </tr>\n",
       "  </thead>\n",
       "  <tbody>\n",
       "    <tr>\n",
       "      <th>0</th>\n",
       "      <td>ZTF18aahvndq</td>\n",
       "      <td>1</td>\n",
       "      <td>15.385100</td>\n",
       "      <td>0.028791</td>\n",
       "      <td>NaN</td>\n",
       "      <td>NaN</td>\n",
       "      <td>58991.302095</td>\n",
       "      <td>1.0</td>\n",
       "      <td>0.770000</td>\n",
       "      <td>198.722678</td>\n",
       "      <td>27.008621</td>\n",
       "      <td>0.175976</td>\n",
       "    </tr>\n",
       "    <tr>\n",
       "      <th>1</th>\n",
       "      <td>ZTF18aahvndq</td>\n",
       "      <td>1</td>\n",
       "      <td>15.712121</td>\n",
       "      <td>0.031231</td>\n",
       "      <td>NaN</td>\n",
       "      <td>NaN</td>\n",
       "      <td>59000.260914</td>\n",
       "      <td>1.0</td>\n",
       "      <td>0.894286</td>\n",
       "      <td>198.722679</td>\n",
       "      <td>27.008635</td>\n",
       "      <td>0.175976</td>\n",
       "    </tr>\n",
       "  </tbody>\n",
       "</table>\n",
       "</div>"
      ],
      "text/plain": [
       "            oid  fid     magpsf  sigmapsf  magpsf_corr  sigmapsf_corr  \\\n",
       "0  ZTF18aahvndq    1  15.385100  0.028791          NaN            NaN   \n",
       "1  ZTF18aahvndq    1  15.712121  0.031231          NaN            NaN   \n",
       "\n",
       "            mjd  isdiffpos        rb          ra        dec  sgscore1  \n",
       "0  58991.302095        1.0  0.770000  198.722678  27.008621  0.175976  \n",
       "1  59000.260914        1.0  0.894286  198.722679  27.008635  0.175976  "
      ]
     },
     "execution_count": 10,
     "metadata": {},
     "output_type": "execute_result"
    }
   ],
   "source": [
    "df_detections.head(2)"
   ]
  },
  {
   "cell_type": "code",
   "execution_count": 11,
   "id": "54ce10f8-a6ce-4ca6-b643-7c3d7cad6eb8",
   "metadata": {},
   "outputs": [],
   "source": [
    "df_matches = df_matches[['oid', 'classALeRCE']]"
   ]
  },
  {
   "cell_type": "code",
   "execution_count": 12,
   "id": "920b2498-5f39-4c3e-96c4-70c82ce5b9bd",
   "metadata": {},
   "outputs": [
    {
     "data": {
      "text/html": [
       "<div>\n",
       "<style scoped>\n",
       "    .dataframe tbody tr th:only-of-type {\n",
       "        vertical-align: middle;\n",
       "    }\n",
       "\n",
       "    .dataframe tbody tr th {\n",
       "        vertical-align: top;\n",
       "    }\n",
       "\n",
       "    .dataframe thead th {\n",
       "        text-align: right;\n",
       "    }\n",
       "</style>\n",
       "<table border=\"1\" class=\"dataframe\">\n",
       "  <thead>\n",
       "    <tr style=\"text-align: right;\">\n",
       "      <th></th>\n",
       "      <th>oid</th>\n",
       "      <th>classALeRCE</th>\n",
       "    </tr>\n",
       "  </thead>\n",
       "  <tbody>\n",
       "    <tr>\n",
       "      <th>0</th>\n",
       "      <td>ZTF19abegncu</td>\n",
       "      <td>AGN</td>\n",
       "    </tr>\n",
       "    <tr>\n",
       "      <th>1</th>\n",
       "      <td>ZTF18acejdhu</td>\n",
       "      <td>AGN</td>\n",
       "    </tr>\n",
       "  </tbody>\n",
       "</table>\n",
       "</div>"
      ],
      "text/plain": [
       "            oid classALeRCE\n",
       "0  ZTF19abegncu         AGN\n",
       "1  ZTF18acejdhu         AGN"
      ]
     },
     "execution_count": 12,
     "metadata": {},
     "output_type": "execute_result"
    }
   ],
   "source": [
    "df_matches.head(2)"
   ]
  },
  {
   "cell_type": "code",
   "execution_count": null,
   "id": "02e78e42-ae0d-4236-950e-ed21a05074d3",
   "metadata": {},
   "outputs": [],
   "source": []
  },
  {
   "cell_type": "markdown",
   "id": "18fe1a73-7858-4d29-b34e-b1e8abcd7ca0",
   "metadata": {},
   "source": [
    "**Juntar datasets**"
   ]
  },
  {
   "cell_type": "code",
   "execution_count": 13,
   "id": "0c51b330-46d6-49b3-9ac0-6b662c724bc6",
   "metadata": {},
   "outputs": [],
   "source": [
    "df_novas =  pd.merge(df_detections, df_matches, left_on='oid', right_on='oid')"
   ]
  },
  {
   "cell_type": "code",
   "execution_count": 14,
   "id": "a9d07c3a-aceb-43ad-8be8-f4b4b39575a1",
   "metadata": {},
   "outputs": [
    {
     "data": {
      "text/html": [
       "<div>\n",
       "<style scoped>\n",
       "    .dataframe tbody tr th:only-of-type {\n",
       "        vertical-align: middle;\n",
       "    }\n",
       "\n",
       "    .dataframe tbody tr th {\n",
       "        vertical-align: top;\n",
       "    }\n",
       "\n",
       "    .dataframe thead th {\n",
       "        text-align: right;\n",
       "    }\n",
       "</style>\n",
       "<table border=\"1\" class=\"dataframe\">\n",
       "  <thead>\n",
       "    <tr style=\"text-align: right;\">\n",
       "      <th></th>\n",
       "      <th>oid</th>\n",
       "      <th>fid</th>\n",
       "      <th>magpsf</th>\n",
       "      <th>sigmapsf</th>\n",
       "      <th>magpsf_corr</th>\n",
       "      <th>sigmapsf_corr</th>\n",
       "      <th>mjd</th>\n",
       "      <th>isdiffpos</th>\n",
       "      <th>rb</th>\n",
       "      <th>ra</th>\n",
       "      <th>dec</th>\n",
       "      <th>sgscore1</th>\n",
       "      <th>classALeRCE</th>\n",
       "    </tr>\n",
       "  </thead>\n",
       "  <tbody>\n",
       "    <tr>\n",
       "      <th>0</th>\n",
       "      <td>ZTF18aahvndq</td>\n",
       "      <td>1</td>\n",
       "      <td>15.385100</td>\n",
       "      <td>0.028791</td>\n",
       "      <td>NaN</td>\n",
       "      <td>NaN</td>\n",
       "      <td>58991.302095</td>\n",
       "      <td>1.0</td>\n",
       "      <td>0.770000</td>\n",
       "      <td>198.722678</td>\n",
       "      <td>27.008621</td>\n",
       "      <td>0.175976</td>\n",
       "      <td>SNIa</td>\n",
       "    </tr>\n",
       "    <tr>\n",
       "      <th>1</th>\n",
       "      <td>ZTF18aahvndq</td>\n",
       "      <td>1</td>\n",
       "      <td>15.712121</td>\n",
       "      <td>0.031231</td>\n",
       "      <td>NaN</td>\n",
       "      <td>NaN</td>\n",
       "      <td>59000.260914</td>\n",
       "      <td>1.0</td>\n",
       "      <td>0.894286</td>\n",
       "      <td>198.722679</td>\n",
       "      <td>27.008635</td>\n",
       "      <td>0.175976</td>\n",
       "      <td>SNIa</td>\n",
       "    </tr>\n",
       "  </tbody>\n",
       "</table>\n",
       "</div>"
      ],
      "text/plain": [
       "            oid  fid     magpsf  sigmapsf  magpsf_corr  sigmapsf_corr  \\\n",
       "0  ZTF18aahvndq    1  15.385100  0.028791          NaN            NaN   \n",
       "1  ZTF18aahvndq    1  15.712121  0.031231          NaN            NaN   \n",
       "\n",
       "            mjd  isdiffpos        rb          ra        dec  sgscore1  \\\n",
       "0  58991.302095        1.0  0.770000  198.722678  27.008621  0.175976   \n",
       "1  59000.260914        1.0  0.894286  198.722679  27.008635  0.175976   \n",
       "\n",
       "  classALeRCE  \n",
       "0        SNIa  \n",
       "1        SNIa  "
      ]
     },
     "execution_count": 14,
     "metadata": {},
     "output_type": "execute_result"
    }
   ],
   "source": [
    "df_novas.head(2)"
   ]
  },
  {
   "cell_type": "code",
   "execution_count": null,
   "id": "ae712f67-a5d5-4562-9b06-13df98c645ab",
   "metadata": {},
   "outputs": [],
   "source": []
  },
  {
   "cell_type": "markdown",
   "id": "35c09189-e3cd-4f84-89cc-13e7df843fcf",
   "metadata": {},
   "source": [
    "**Clases detectadas**"
   ]
  },
  {
   "cell_type": "code",
   "execution_count": 15,
   "id": "8197894a-013f-4e70-9705-f9515eb73d9b",
   "metadata": {},
   "outputs": [
    {
     "data": {
      "text/html": [
       "<div>\n",
       "<style scoped>\n",
       "    .dataframe tbody tr th:only-of-type {\n",
       "        vertical-align: middle;\n",
       "    }\n",
       "\n",
       "    .dataframe tbody tr th {\n",
       "        vertical-align: top;\n",
       "    }\n",
       "\n",
       "    .dataframe thead th {\n",
       "        text-align: right;\n",
       "    }\n",
       "</style>\n",
       "<table border=\"1\" class=\"dataframe\">\n",
       "  <thead>\n",
       "    <tr style=\"text-align: right;\">\n",
       "      <th></th>\n",
       "      <th>oid</th>\n",
       "    </tr>\n",
       "    <tr>\n",
       "      <th>classALeRCE</th>\n",
       "      <th></th>\n",
       "    </tr>\n",
       "  </thead>\n",
       "  <tbody>\n",
       "    <tr>\n",
       "      <th>SLSN</th>\n",
       "      <td>34</td>\n",
       "    </tr>\n",
       "    <tr>\n",
       "      <th>SNII</th>\n",
       "      <td>330</td>\n",
       "    </tr>\n",
       "    <tr>\n",
       "      <th>SNIIb</th>\n",
       "      <td>16</td>\n",
       "    </tr>\n",
       "    <tr>\n",
       "      <th>SNIIn</th>\n",
       "      <td>42</td>\n",
       "    </tr>\n",
       "    <tr>\n",
       "      <th>SNIa</th>\n",
       "      <td>1540</td>\n",
       "    </tr>\n",
       "    <tr>\n",
       "      <th>SNIbc</th>\n",
       "      <td>106</td>\n",
       "    </tr>\n",
       "  </tbody>\n",
       "</table>\n",
       "</div>"
      ],
      "text/plain": [
       "              oid\n",
       "classALeRCE      \n",
       "SLSN           34\n",
       "SNII          330\n",
       "SNIIb          16\n",
       "SNIIn          42\n",
       "SNIa         1540\n",
       "SNIbc         106"
      ]
     },
     "execution_count": 15,
     "metadata": {},
     "output_type": "execute_result"
    }
   ],
   "source": [
    "df_novas[['classALeRCE', 'oid']].drop_duplicates('oid').groupby('classALeRCE').count()"
   ]
  },
  {
   "cell_type": "code",
   "execution_count": 16,
   "id": "774d9137-ef11-4048-8073-28b3076c18a8",
   "metadata": {},
   "outputs": [
    {
     "data": {
      "image/png": "[encoded data removed]",
      "text/plain": [
       "<Figure size 432x288 with 1 Axes>"
      ]
     },
     "metadata": {
      "needs_background": "light"
     },
     "output_type": "display_data"
    }
   ],
   "source": [
    "values = df_novas[['classALeRCE', 'oid']].drop_duplicates('oid').groupby('classALeRCE').count().index.values.tolist()\n",
    "frequencies = df_novas[['classALeRCE', 'oid']].drop_duplicates('oid').groupby('classALeRCE').count()['oid'].tolist()\n",
    "plt.bar(values, frequencies)\n",
    "plt.title('Distribución por clase de Supernova')\n",
    "plt.xlabel('Clases')\n",
    "plt.ylabel('Frecuencia')\n",
    "plt.savefig(f'hist_1.pdf', bbox_inches='tight')\n",
    "plt.show()"
   ]
  },
  {
   "cell_type": "code",
   "execution_count": null,
   "id": "f62d13ec-619b-49b1-8133-036a792f0531",
   "metadata": {},
   "outputs": [],
   "source": []
  },
  {
   "cell_type": "markdown",
   "id": "51ce3b82-4c76-4fa6-a04d-61c79deb3f03",
   "metadata": {},
   "source": [
    "**Se juntan las clases SNII - SNIIb - SNIIn en SNII**"
   ]
  },
  {
   "cell_type": "code",
   "execution_count": 17,
   "id": "f9305014-6276-4228-a9a4-50039af17b1f",
   "metadata": {},
   "outputs": [],
   "source": [
    "df_novas = df_novas.replace('SNIIb', 'SNII')\n",
    "df_novas = df_novas.replace('SNIIn', 'SNII')"
   ]
  },
  {
   "cell_type": "code",
   "execution_count": 18,
   "id": "095c0b77-ffe8-405a-a420-18d37510932f",
   "metadata": {},
   "outputs": [
    {
     "data": {
      "text/html": [
       "<div>\n",
       "<style scoped>\n",
       "    .dataframe tbody tr th:only-of-type {\n",
       "        vertical-align: middle;\n",
       "    }\n",
       "\n",
       "    .dataframe tbody tr th {\n",
       "        vertical-align: top;\n",
       "    }\n",
       "\n",
       "    .dataframe thead th {\n",
       "        text-align: right;\n",
       "    }\n",
       "</style>\n",
       "<table border=\"1\" class=\"dataframe\">\n",
       "  <thead>\n",
       "    <tr style=\"text-align: right;\">\n",
       "      <th></th>\n",
       "      <th>oid</th>\n",
       "    </tr>\n",
       "    <tr>\n",
       "      <th>classALeRCE</th>\n",
       "      <th></th>\n",
       "    </tr>\n",
       "  </thead>\n",
       "  <tbody>\n",
       "    <tr>\n",
       "      <th>SLSN</th>\n",
       "      <td>34</td>\n",
       "    </tr>\n",
       "    <tr>\n",
       "      <th>SNII</th>\n",
       "      <td>388</td>\n",
       "    </tr>\n",
       "    <tr>\n",
       "      <th>SNIa</th>\n",
       "      <td>1540</td>\n",
       "    </tr>\n",
       "    <tr>\n",
       "      <th>SNIbc</th>\n",
       "      <td>106</td>\n",
       "    </tr>\n",
       "  </tbody>\n",
       "</table>\n",
       "</div>"
      ],
      "text/plain": [
       "              oid\n",
       "classALeRCE      \n",
       "SLSN           34\n",
       "SNII          388\n",
       "SNIa         1540\n",
       "SNIbc         106"
      ]
     },
     "execution_count": 18,
     "metadata": {},
     "output_type": "execute_result"
    }
   ],
   "source": [
    "df_novas[['classALeRCE', 'oid']].drop_duplicates('oid').groupby('classALeRCE').count()"
   ]
  },
  {
   "cell_type": "code",
   "execution_count": 19,
   "id": "74fc7f79-c2a0-47d6-81e6-865a4e9826af",
   "metadata": {},
   "outputs": [
    {
     "data": {
      "image/png": "[encoded data removed]",
      "text/plain": [
       "<Figure size 432x288 with 1 Axes>"
      ]
     },
     "metadata": {
      "needs_background": "light"
     },
     "output_type": "display_data"
    }
   ],
   "source": [
    "values = df_novas[['classALeRCE', 'oid']].drop_duplicates('oid').groupby('classALeRCE').count().index.values.tolist()\n",
    "frequencies = df_novas[['classALeRCE', 'oid']].drop_duplicates('oid').groupby('classALeRCE').count()['oid'].tolist()\n",
    "plt.bar(values, frequencies)\n",
    "plt.title('Distribución por clases agrupadas de Supernova')\n",
    "plt.xlabel('Clases')\n",
    "plt.ylabel('Frecuencia')\n",
    "plt.savefig(f'hist_2.pdf', bbox_inches='tight')\n",
    "plt.show()"
   ]
  },
  {
   "cell_type": "code",
   "execution_count": null,
   "id": "cbc22f02-4832-4130-8585-ae0e6c6c37da",
   "metadata": {},
   "outputs": [],
   "source": []
  },
  {
   "cell_type": "code",
   "execution_count": null,
   "id": "0086fa1c-9d50-41c8-a187-16a64bd4b85a",
   "metadata": {},
   "outputs": [],
   "source": []
  },
  {
   "cell_type": "markdown",
   "id": "be4f36d5-37e9-46b5-8473-8508c11b1f28",
   "metadata": {},
   "source": [
    "**Reemplazar magpsf_corr y sigmapsf_corr por sus no corr en caso de NaN**"
   ]
  },
  {
   "cell_type": "code",
   "execution_count": 20,
   "id": "7176bb8a-0f65-413a-a743-dabdc010daec",
   "metadata": {},
   "outputs": [],
   "source": [
    "df_novas['magpsf_corr'] = df_novas['magpsf_corr'].fillna(df_novas['magpsf'])\n",
    "df_novas['sigmapsf_corr'] = df_novas['sigmapsf_corr'].fillna(df_novas['sigmapsf'])"
   ]
  },
  {
   "cell_type": "code",
   "execution_count": 21,
   "id": "5d11bfe6-bb73-4a43-b8b5-73cff67e3e71",
   "metadata": {},
   "outputs": [
    {
     "data": {
      "text/html": [
       "<div>\n",
       "<style scoped>\n",
       "    .dataframe tbody tr th:only-of-type {\n",
       "        vertical-align: middle;\n",
       "    }\n",
       "\n",
       "    .dataframe tbody tr th {\n",
       "        vertical-align: top;\n",
       "    }\n",
       "\n",
       "    .dataframe thead th {\n",
       "        text-align: right;\n",
       "    }\n",
       "</style>\n",
       "<table border=\"1\" class=\"dataframe\">\n",
       "  <thead>\n",
       "    <tr style=\"text-align: right;\">\n",
       "      <th></th>\n",
       "      <th>oid</th>\n",
       "      <th>fid</th>\n",
       "      <th>magpsf</th>\n",
       "      <th>sigmapsf</th>\n",
       "      <th>magpsf_corr</th>\n",
       "      <th>sigmapsf_corr</th>\n",
       "      <th>mjd</th>\n",
       "      <th>isdiffpos</th>\n",
       "      <th>rb</th>\n",
       "      <th>ra</th>\n",
       "      <th>dec</th>\n",
       "      <th>sgscore1</th>\n",
       "      <th>classALeRCE</th>\n",
       "    </tr>\n",
       "  </thead>\n",
       "  <tbody>\n",
       "    <tr>\n",
       "      <th>0</th>\n",
       "      <td>ZTF18aahvndq</td>\n",
       "      <td>1</td>\n",
       "      <td>15.385100</td>\n",
       "      <td>0.028791</td>\n",
       "      <td>15.385100</td>\n",
       "      <td>0.028791</td>\n",
       "      <td>58991.302095</td>\n",
       "      <td>1.0</td>\n",
       "      <td>0.770000</td>\n",
       "      <td>198.722678</td>\n",
       "      <td>27.008621</td>\n",
       "      <td>0.175976</td>\n",
       "      <td>SNIa</td>\n",
       "    </tr>\n",
       "    <tr>\n",
       "      <th>1</th>\n",
       "      <td>ZTF18aahvndq</td>\n",
       "      <td>1</td>\n",
       "      <td>15.712121</td>\n",
       "      <td>0.031231</td>\n",
       "      <td>15.712121</td>\n",
       "      <td>0.031231</td>\n",
       "      <td>59000.260914</td>\n",
       "      <td>1.0</td>\n",
       "      <td>0.894286</td>\n",
       "      <td>198.722679</td>\n",
       "      <td>27.008635</td>\n",
       "      <td>0.175976</td>\n",
       "      <td>SNIa</td>\n",
       "    </tr>\n",
       "  </tbody>\n",
       "</table>\n",
       "</div>"
      ],
      "text/plain": [
       "            oid  fid     magpsf  sigmapsf  magpsf_corr  sigmapsf_corr  \\\n",
       "0  ZTF18aahvndq    1  15.385100  0.028791    15.385100       0.028791   \n",
       "1  ZTF18aahvndq    1  15.712121  0.031231    15.712121       0.031231   \n",
       "\n",
       "            mjd  isdiffpos        rb          ra        dec  sgscore1  \\\n",
       "0  58991.302095        1.0  0.770000  198.722678  27.008621  0.175976   \n",
       "1  59000.260914        1.0  0.894286  198.722679  27.008635  0.175976   \n",
       "\n",
       "  classALeRCE  \n",
       "0        SNIa  \n",
       "1        SNIa  "
      ]
     },
     "execution_count": 21,
     "metadata": {},
     "output_type": "execute_result"
    }
   ],
   "source": [
    "df_novas.head(2)"
   ]
  },
  {
   "cell_type": "code",
   "execution_count": null,
   "id": "7b904eb0-e79e-4715-a3de-a5fd22e05419",
   "metadata": {},
   "outputs": [],
   "source": []
  },
  {
   "cell_type": "markdown",
   "id": "06db399f-9283-4ea2-a510-4655a8f46488",
   "metadata": {},
   "source": [
    "**Exportar datos**"
   ]
  },
  {
   "cell_type": "code",
   "execution_count": 22,
   "id": "05709750-065f-4841-b9d2-baf75217c18b",
   "metadata": {},
   "outputs": [],
   "source": [
    "df_novas.to_pickle('df_novas.pkl')"
   ]
  },
  {
   "cell_type": "code",
   "execution_count": null,
   "id": "6d9239da-648c-4d46-b26e-aa8a23e52262",
   "metadata": {},
   "outputs": [],
   "source": []
  },
  {
   "cell_type": "markdown",
   "id": "b11d6f87-ccc3-4f47-b6fb-4f0089680a29",
   "metadata": {},
   "source": [
    "**Plot de cada clase**"
   ]
  },
  {
   "cell_type": "code",
   "execution_count": 23,
   "id": "cb39f287-87ae-4c3f-a425-1e0dc70ed0fc",
   "metadata": {},
   "outputs": [
    {
     "name": "stdout",
     "output_type": "stream",
     "text": [
      "SNIa ZTF19abqanpy\n",
      "SNIbc ZTF18acwvcbz\n",
      "SNII ZTF18acbwaxk\n",
      "SLSN ZTF19abclykm\n"
     ]
    }
   ],
   "source": [
    "classes = []\n",
    "max_val = []\n",
    "\n",
    "for i in df_novas['classALeRCE'].unique().tolist():\n",
    "    classes.append(i)\n",
    "    max_val.append(df_novas[df_novas['classALeRCE'] == f'{i}'].groupby('oid').count().idxmax()[0])\n",
    "    print(i, df_novas[df_novas['classALeRCE'] == f'{i}'].groupby('oid').count().idxmax()[0])"
   ]
  },
  {
   "cell_type": "code",
   "execution_count": 24,
   "id": "1a87f857-695a-459a-886e-ce4762bb8ad7",
   "metadata": {},
   "outputs": [
    {
     "data": {
      "image/png": "[encoded data removed]",
      "text/plain": [
       "<Figure size 1152x648 with 1 Axes>"
      ]
     },
     "metadata": {
      "needs_background": "light"
     },
     "output_type": "display_data"
    },
    {
     "data": {
      "image/png": "[encoded data removed]",
      "text/plain": [
       "<Figure size 1152x648 with 1 Axes>"
      ]
     },
     "metadata": {
      "needs_background": "light"
     },
     "output_type": "display_data"
    },
    {
     "data": {
      "image/png": "[encoded data removed]",
      "text/plain": [
       "<Figure size 1152x648 with 1 Axes>"
      ]
     },
     "metadata": {
      "needs_background": "light"
     },
     "output_type": "display_data"
    },
    {
     "data": {
      "image/png": "[encoded data removed]",
      "text/plain": [
       "<Figure size 1152x648 with 1 Axes>"
      ]
     },
     "metadata": {
      "needs_background": "light"
     },
     "output_type": "display_data"
    }
   ],
   "source": [
    "for i in range(len(classes)):\n",
    "    \n",
    "    plt.figure(figsize=(16,9))\n",
    "    plt.title(f'{classes[i]} - {max_val[i]}')\n",
    "    plot = sns.scatterplot(data = df_novas[df_novas['oid'] == max_val[i]], hue = df_novas[df_novas['oid'] ==  max_val[i]]['fid'], x = \"mjd\", y = \"magpsf_corr\", palette = 'tab10')\n",
    "    fig = plot.get_figure()\n",
    "    fig.savefig(f'{classes[i]}.pdf', bbox_inches='tight')"
   ]
  },
  {
   "cell_type": "code",
   "execution_count": null,
   "id": "6c36dd27-01c9-4af8-bc6a-4fe6ca965ae3",
   "metadata": {},
   "outputs": [],
   "source": []
  },
  {
   "cell_type": "code",
   "execution_count": null,
   "id": "05e671dc-0a67-41b7-a18c-347da4da323b",
   "metadata": {},
   "outputs": [],
   "source": []
  },
  {
   "cell_type": "code",
   "execution_count": null,
   "id": "1a82af2c-4e06-46fb-b372-becaf9b9effe",
   "metadata": {},
   "outputs": [],
   "source": []
  }
 ],
 "metadata": {
  "kernelspec": {
   "display_name": "Python 3 (ipykernel)",
   "language": "python",
   "name": "python3"
  },
  "language_info": {
   "codemirror_mode": {
    "name": "ipython",
    "version": 3
   },
   "file_extension": ".py",
   "mimetype": "text/x-python",
   "name": "python",
   "nbconvert_exporter": "python",
   "pygments_lexer": "ipython3",
   "version": "3.9.13"
  }
 },
 "nbformat": 4,
 "nbformat_minor": 5
}
