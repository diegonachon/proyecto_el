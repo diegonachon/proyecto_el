{
 "cells": [
  {
   "cell_type": "markdown",
   "id": "9937a45a-bc82-4250-8cee-e53cd53f2778",
   "metadata": {},
   "source": [
    "# Clasificación de supernovas ALeRCE - ZTF"
   ]
  },
  {
   "cell_type": "markdown",
   "id": "0f82fd5c-ac59-4a62-ba43-5652ded26761",
   "metadata": {},
   "source": [
    "**Integrantes**\n",
    "- Tomás Abedrapo\n",
    "- Diego Cornejo\n",
    "\n",
    "**Tutor**\n",
    "- Rodrigo Vidal"
   ]
  },
  {
   "cell_type": "markdown",
   "id": "c1a5879b-e584-4cae-9c2b-28cb4ee9bd1a",
   "metadata": {},
   "source": [
    "## Instrucciones de ejecución"
   ]
  },
  {
   "cell_type": "markdown",
   "id": "f37da83b-91c5-4042-a021-0e3ef5c7a4fc",
   "metadata": {},
   "source": [
    "Todo el código utilizado se encuentra en Notebooks, por lo que solo basta con correr todas las celdas.\n",
    "\n",
    "**EDA**\n",
    "\n",
    "Se encuentra en EDA.ipynb\n",
    "\n",
    "**Feature Extraction**\n",
    "\n",
    "Se encuentra en Preeliminar_ExtracciónFeatures.ipynb\n",
    "\n",
    "**Preprocesamiento y modelo**\n",
    "\n",
    "Se encuentra en Preeliminar_modelo_clasificacion.ipynb\n",
    "\n",
    "**Preprocesamiento y modelo iteración**\n",
    "\n",
    "Se encuentra en Preeliminar_modelo_clasificacion_iteracion\n",
    ".ipynb\n"
   ]
  },
  {
   "cell_type": "code",
   "execution_count": null,
   "id": "1ee815d0-fd20-4c04-8be0-b0ff79f06cf6",
   "metadata": {},
   "outputs": [],
   "source": []
  }
 ],
 "metadata": {
  "kernelspec": {
   "display_name": "Python 3 (ipykernel)",
   "language": "python",
   "name": "python3"
  },
  "language_info": {
   "codemirror_mode": {
    "name": "ipython",
    "version": 3
   },
   "file_extension": ".py",
   "mimetype": "text/x-python",
   "name": "python",
   "nbconvert_exporter": "python",
   "pygments_lexer": "ipython3",
   "version": "3.9.13"
  }
 },
 "nbformat": 4,
 "nbformat_minor": 5
}
