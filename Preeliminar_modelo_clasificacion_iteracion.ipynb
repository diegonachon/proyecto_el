{
 "cells": [
  {
   "cell_type": "markdown",
   "metadata": {
    "id": "rdy7tVEYYLWi"
   },
   "source": [
    "## Importar librerías"
   ]
  },
  {
   "cell_type": "code",
   "execution_count": 1,
   "metadata": {},
   "outputs": [],
   "source": [
    "# !pip install imblearn"
   ]
  },
  {
   "cell_type": "code",
   "execution_count": 13,
   "metadata": {
    "id": "L3g_qCB7Xg6A"
   },
   "outputs": [],
   "source": [
    "import pandas as pd\n",
    "import numpy as np\n",
    "\n",
    "from imblearn.ensemble import BalancedRandomForestClassifier\n",
    "from sklearn.model_selection import train_test_split\n",
    "from sklearn.ensemble import RandomForestClassifier\n",
    "from sklearn.neighbors import KNeighborsClassifier\n",
    "from sklearn.metrics import accuracy_score, classification_report , confusion_matrix, ConfusionMatrixDisplay\n"
   ]
  },
  {
   "cell_type": "markdown",
   "metadata": {
    "id": "inbIoZdiYDqW"
   },
   "source": [
    "## Importar Dataset prerpocesado"
   ]
  },
  {
   "cell_type": "code",
   "execution_count": 14,
   "metadata": {
    "colab": {
     "base_uri": "https://localhost:8080/"
    },
    "id": "Y9iNcsXgYTru",
    "outputId": "387e6c71-4988-48e2-85cd-7c4c31ac51b0"
   },
   "outputs": [],
   "source": [
    "df = pd.read_csv('features_extraidas.csv')\n",
    "df = df.drop(df.columns[0], axis=1)\n",
    "\n",
    "df = df.drop('Eta_e_r', axis=1)\n",
    "df = df.drop('Eta_e_g', axis=1)\n",
    "df = df.drop('MaxSlope_r', axis=1)\n",
    "df = df.drop('MaxSlope_g', axis=1)\n",
    "df = df.drop('Period_band_g', axis=1)\n",
    "df = df.drop('delta_period_g', axis=1)\n",
    "\n",
    "\n",
    "df = df.fillna(-999)\n",
    "# df = df.fillna(df.mean())\n",
    "\n",
    "#Eliminamos filas con valores faltantes\n",
    "# df = df.dropna(axis=0)\n",
    "\n",
    "df = df.drop_duplicates()\n",
    "\n",
    "# print(f'Tamaño del dataset:\\t{df.shape}')\n",
    "# df"
   ]
  },
  {
   "cell_type": "code",
   "execution_count": 15,
   "metadata": {},
   "outputs": [
    {
     "data": {
      "text/html": [
       "<div>\n",
       "<style scoped>\n",
       "    .dataframe tbody tr th:only-of-type {\n",
       "        vertical-align: middle;\n",
       "    }\n",
       "\n",
       "    .dataframe tbody tr th {\n",
       "        vertical-align: top;\n",
       "    }\n",
       "\n",
       "    .dataframe thead th {\n",
       "        text-align: right;\n",
       "    }\n",
       "</style>\n",
       "<table border=\"1\" class=\"dataframe\">\n",
       "  <thead>\n",
       "    <tr style=\"text-align: right;\">\n",
       "      <th></th>\n",
       "      <th>index</th>\n",
       "      <th>oid</th>\n",
       "      <th>delta_mag_fid_g</th>\n",
       "      <th>delta_mjd_fid_g</th>\n",
       "      <th>first_mag_g</th>\n",
       "      <th>mean_mag_g</th>\n",
       "      <th>min_mag_g</th>\n",
       "      <th>n_det_g</th>\n",
       "      <th>n_neg_g</th>\n",
       "      <th>n_pos_g</th>\n",
       "      <th>...</th>\n",
       "      <th>SmallKurtosis_r</th>\n",
       "      <th>Std_r</th>\n",
       "      <th>StetsonK_r</th>\n",
       "      <th>Pvar_r</th>\n",
       "      <th>ExcessVar_r</th>\n",
       "      <th>SF_ML_amplitude_r</th>\n",
       "      <th>SF_ML_gamma_r</th>\n",
       "      <th>IAR_phi_r</th>\n",
       "      <th>LinearTrend_r</th>\n",
       "      <th>classALeRCE</th>\n",
       "    </tr>\n",
       "  </thead>\n",
       "  <tbody>\n",
       "    <tr>\n",
       "      <th>0</th>\n",
       "      <td>0</td>\n",
       "      <td>ZTF17aadlxmv</td>\n",
       "      <td>0.489893</td>\n",
       "      <td>42.055613</td>\n",
       "      <td>17.454949</td>\n",
       "      <td>17.295473</td>\n",
       "      <td>16.994532</td>\n",
       "      <td>18.0</td>\n",
       "      <td>0.0</td>\n",
       "      <td>18.0</td>\n",
       "      <td>...</td>\n",
       "      <td>13.137293</td>\n",
       "      <td>0.265521</td>\n",
       "      <td>0.510386</td>\n",
       "      <td>1.000000e+00</td>\n",
       "      <td>-33.720276</td>\n",
       "      <td>-0.500000</td>\n",
       "      <td>-0.500000</td>\n",
       "      <td>0.874036</td>\n",
       "      <td>0.005381</td>\n",
       "      <td>SNIa</td>\n",
       "    </tr>\n",
       "    <tr>\n",
       "      <th>54</th>\n",
       "      <td>1</td>\n",
       "      <td>ZTF18aaaqexr</td>\n",
       "      <td>0.121316</td>\n",
       "      <td>18.870671</td>\n",
       "      <td>16.733905</td>\n",
       "      <td>16.711534</td>\n",
       "      <td>16.633707</td>\n",
       "      <td>9.0</td>\n",
       "      <td>0.0</td>\n",
       "      <td>9.0</td>\n",
       "      <td>...</td>\n",
       "      <td>-999.000000</td>\n",
       "      <td>-999.000000</td>\n",
       "      <td>-999.000000</td>\n",
       "      <td>-9.990000e+02</td>\n",
       "      <td>-999.000000</td>\n",
       "      <td>-999.000000</td>\n",
       "      <td>-999.000000</td>\n",
       "      <td>-999.000000</td>\n",
       "      <td>-999.000000</td>\n",
       "      <td>SNIa</td>\n",
       "    </tr>\n",
       "    <tr>\n",
       "      <th>65</th>\n",
       "      <td>2</td>\n",
       "      <td>ZTF18aacdbzx</td>\n",
       "      <td>0.123097</td>\n",
       "      <td>19.991725</td>\n",
       "      <td>18.178415</td>\n",
       "      <td>18.159091</td>\n",
       "      <td>18.096627</td>\n",
       "      <td>14.0</td>\n",
       "      <td>0.0</td>\n",
       "      <td>14.0</td>\n",
       "      <td>...</td>\n",
       "      <td>1.498546</td>\n",
       "      <td>0.046752</td>\n",
       "      <td>0.711686</td>\n",
       "      <td>1.485481e-60</td>\n",
       "      <td>-32.610615</td>\n",
       "      <td>-0.500000</td>\n",
       "      <td>-0.500000</td>\n",
       "      <td>0.999547</td>\n",
       "      <td>0.003567</td>\n",
       "      <td>SNIbc</td>\n",
       "    </tr>\n",
       "    <tr>\n",
       "      <th>99</th>\n",
       "      <td>3</td>\n",
       "      <td>ZTF18aadmssd</td>\n",
       "      <td>1.015765</td>\n",
       "      <td>59.951100</td>\n",
       "      <td>16.399704</td>\n",
       "      <td>17.049047</td>\n",
       "      <td>16.399704</td>\n",
       "      <td>16.0</td>\n",
       "      <td>0.0</td>\n",
       "      <td>16.0</td>\n",
       "      <td>...</td>\n",
       "      <td>-0.593508</td>\n",
       "      <td>0.190405</td>\n",
       "      <td>0.827050</td>\n",
       "      <td>4.356760e-74</td>\n",
       "      <td>-38.680328</td>\n",
       "      <td>-0.500000</td>\n",
       "      <td>-0.500000</td>\n",
       "      <td>0.999999</td>\n",
       "      <td>0.007788</td>\n",
       "      <td>SNII</td>\n",
       "    </tr>\n",
       "    <tr>\n",
       "      <th>145</th>\n",
       "      <td>4</td>\n",
       "      <td>ZTF18aadzfso</td>\n",
       "      <td>0.364548</td>\n",
       "      <td>32.999224</td>\n",
       "      <td>17.839005</td>\n",
       "      <td>17.710422</td>\n",
       "      <td>17.475610</td>\n",
       "      <td>24.0</td>\n",
       "      <td>0.0</td>\n",
       "      <td>24.0</td>\n",
       "      <td>...</td>\n",
       "      <td>-0.559022</td>\n",
       "      <td>0.042706</td>\n",
       "      <td>0.856073</td>\n",
       "      <td>6.496568e-93</td>\n",
       "      <td>-34.907166</td>\n",
       "      <td>-0.500000</td>\n",
       "      <td>-0.500000</td>\n",
       "      <td>0.999267</td>\n",
       "      <td>0.001497</td>\n",
       "      <td>SNIa</td>\n",
       "    </tr>\n",
       "    <tr>\n",
       "      <th>...</th>\n",
       "      <td>...</td>\n",
       "      <td>...</td>\n",
       "      <td>...</td>\n",
       "      <td>...</td>\n",
       "      <td>...</td>\n",
       "      <td>...</td>\n",
       "      <td>...</td>\n",
       "      <td>...</td>\n",
       "      <td>...</td>\n",
       "      <td>...</td>\n",
       "      <td>...</td>\n",
       "      <td>...</td>\n",
       "      <td>...</td>\n",
       "      <td>...</td>\n",
       "      <td>...</td>\n",
       "      <td>...</td>\n",
       "      <td>...</td>\n",
       "      <td>...</td>\n",
       "      <td>...</td>\n",
       "      <td>...</td>\n",
       "      <td>...</td>\n",
       "    </tr>\n",
       "    <tr>\n",
       "      <th>128356</th>\n",
       "      <td>2063</td>\n",
       "      <td>ZTF20abgbxfm</td>\n",
       "      <td>2.981503</td>\n",
       "      <td>68.950197</td>\n",
       "      <td>18.893476</td>\n",
       "      <td>19.555296</td>\n",
       "      <td>18.296597</td>\n",
       "      <td>58.0</td>\n",
       "      <td>0.0</td>\n",
       "      <td>58.0</td>\n",
       "      <td>...</td>\n",
       "      <td>-1.248496</td>\n",
       "      <td>0.640637</td>\n",
       "      <td>0.835498</td>\n",
       "      <td>1.000000e+00</td>\n",
       "      <td>0.001038</td>\n",
       "      <td>10.708651</td>\n",
       "      <td>0.977811</td>\n",
       "      <td>0.991739</td>\n",
       "      <td>0.032839</td>\n",
       "      <td>SNIa</td>\n",
       "    </tr>\n",
       "    <tr>\n",
       "      <th>128490</th>\n",
       "      <td>2064</td>\n",
       "      <td>ZTF20abgdtmv</td>\n",
       "      <td>2.669654</td>\n",
       "      <td>33.020729</td>\n",
       "      <td>18.728144</td>\n",
       "      <td>20.046770</td>\n",
       "      <td>18.663546</td>\n",
       "      <td>26.0</td>\n",
       "      <td>0.0</td>\n",
       "      <td>26.0</td>\n",
       "      <td>...</td>\n",
       "      <td>-0.974009</td>\n",
       "      <td>0.528035</td>\n",
       "      <td>0.858666</td>\n",
       "      <td>1.000000e+00</td>\n",
       "      <td>0.000697</td>\n",
       "      <td>7.053065</td>\n",
       "      <td>0.740276</td>\n",
       "      <td>0.979279</td>\n",
       "      <td>0.039661</td>\n",
       "      <td>SNIa</td>\n",
       "    </tr>\n",
       "    <tr>\n",
       "      <th>128556</th>\n",
       "      <td>2065</td>\n",
       "      <td>ZTF20abgfekk</td>\n",
       "      <td>1.314085</td>\n",
       "      <td>31.928044</td>\n",
       "      <td>18.671485</td>\n",
       "      <td>17.593371</td>\n",
       "      <td>17.357400</td>\n",
       "      <td>32.0</td>\n",
       "      <td>0.0</td>\n",
       "      <td>32.0</td>\n",
       "      <td>...</td>\n",
       "      <td>5.608756</td>\n",
       "      <td>0.266109</td>\n",
       "      <td>0.684980</td>\n",
       "      <td>1.000000e+00</td>\n",
       "      <td>0.000222</td>\n",
       "      <td>11.677370</td>\n",
       "      <td>1.048642</td>\n",
       "      <td>0.953808</td>\n",
       "      <td>-0.019504</td>\n",
       "      <td>SNIa</td>\n",
       "    </tr>\n",
       "    <tr>\n",
       "      <th>128628</th>\n",
       "      <td>2066</td>\n",
       "      <td>ZTF20abgfljj</td>\n",
       "      <td>1.344170</td>\n",
       "      <td>21.932766</td>\n",
       "      <td>19.791739</td>\n",
       "      <td>19.019873</td>\n",
       "      <td>18.447569</td>\n",
       "      <td>26.0</td>\n",
       "      <td>0.0</td>\n",
       "      <td>26.0</td>\n",
       "      <td>...</td>\n",
       "      <td>0.948814</td>\n",
       "      <td>0.661672</td>\n",
       "      <td>0.819832</td>\n",
       "      <td>1.000000e+00</td>\n",
       "      <td>0.001141</td>\n",
       "      <td>4.158228</td>\n",
       "      <td>0.454654</td>\n",
       "      <td>0.909056</td>\n",
       "      <td>-0.031579</td>\n",
       "      <td>SNIa</td>\n",
       "    </tr>\n",
       "    <tr>\n",
       "      <th>128680</th>\n",
       "      <td>2067</td>\n",
       "      <td>ZTF20abhvnzc</td>\n",
       "      <td>1.237353</td>\n",
       "      <td>14.989954</td>\n",
       "      <td>18.093634</td>\n",
       "      <td>18.536102</td>\n",
       "      <td>17.967752</td>\n",
       "      <td>18.0</td>\n",
       "      <td>0.0</td>\n",
       "      <td>18.0</td>\n",
       "      <td>...</td>\n",
       "      <td>-1.138268</td>\n",
       "      <td>0.353775</td>\n",
       "      <td>0.886801</td>\n",
       "      <td>1.000000e+00</td>\n",
       "      <td>0.000367</td>\n",
       "      <td>0.304745</td>\n",
       "      <td>-0.179538</td>\n",
       "      <td>0.919563</td>\n",
       "      <td>0.042000</td>\n",
       "      <td>SNIa</td>\n",
       "    </tr>\n",
       "  </tbody>\n",
       "</table>\n",
       "<p>2068 rows × 129 columns</p>\n",
       "</div>"
      ],
      "text/plain": [
       "        index           oid  delta_mag_fid_g  delta_mjd_fid_g  first_mag_g  \\\n",
       "0           0  ZTF17aadlxmv         0.489893        42.055613    17.454949   \n",
       "54          1  ZTF18aaaqexr         0.121316        18.870671    16.733905   \n",
       "65          2  ZTF18aacdbzx         0.123097        19.991725    18.178415   \n",
       "99          3  ZTF18aadmssd         1.015765        59.951100    16.399704   \n",
       "145         4  ZTF18aadzfso         0.364548        32.999224    17.839005   \n",
       "...       ...           ...              ...              ...          ...   \n",
       "128356   2063  ZTF20abgbxfm         2.981503        68.950197    18.893476   \n",
       "128490   2064  ZTF20abgdtmv         2.669654        33.020729    18.728144   \n",
       "128556   2065  ZTF20abgfekk         1.314085        31.928044    18.671485   \n",
       "128628   2066  ZTF20abgfljj         1.344170        21.932766    19.791739   \n",
       "128680   2067  ZTF20abhvnzc         1.237353        14.989954    18.093634   \n",
       "\n",
       "        mean_mag_g  min_mag_g  n_det_g  n_neg_g  n_pos_g  ...  \\\n",
       "0        17.295473  16.994532     18.0      0.0     18.0  ...   \n",
       "54       16.711534  16.633707      9.0      0.0      9.0  ...   \n",
       "65       18.159091  18.096627     14.0      0.0     14.0  ...   \n",
       "99       17.049047  16.399704     16.0      0.0     16.0  ...   \n",
       "145      17.710422  17.475610     24.0      0.0     24.0  ...   \n",
       "...            ...        ...      ...      ...      ...  ...   \n",
       "128356   19.555296  18.296597     58.0      0.0     58.0  ...   \n",
       "128490   20.046770  18.663546     26.0      0.0     26.0  ...   \n",
       "128556   17.593371  17.357400     32.0      0.0     32.0  ...   \n",
       "128628   19.019873  18.447569     26.0      0.0     26.0  ...   \n",
       "128680   18.536102  17.967752     18.0      0.0     18.0  ...   \n",
       "\n",
       "        SmallKurtosis_r       Std_r  StetsonK_r        Pvar_r  ExcessVar_r  \\\n",
       "0             13.137293    0.265521    0.510386  1.000000e+00   -33.720276   \n",
       "54          -999.000000 -999.000000 -999.000000 -9.990000e+02  -999.000000   \n",
       "65             1.498546    0.046752    0.711686  1.485481e-60   -32.610615   \n",
       "99            -0.593508    0.190405    0.827050  4.356760e-74   -38.680328   \n",
       "145           -0.559022    0.042706    0.856073  6.496568e-93   -34.907166   \n",
       "...                 ...         ...         ...           ...          ...   \n",
       "128356        -1.248496    0.640637    0.835498  1.000000e+00     0.001038   \n",
       "128490        -0.974009    0.528035    0.858666  1.000000e+00     0.000697   \n",
       "128556         5.608756    0.266109    0.684980  1.000000e+00     0.000222   \n",
       "128628         0.948814    0.661672    0.819832  1.000000e+00     0.001141   \n",
       "128680        -1.138268    0.353775    0.886801  1.000000e+00     0.000367   \n",
       "\n",
       "        SF_ML_amplitude_r  SF_ML_gamma_r   IAR_phi_r  LinearTrend_r  \\\n",
       "0               -0.500000      -0.500000    0.874036       0.005381   \n",
       "54            -999.000000    -999.000000 -999.000000    -999.000000   \n",
       "65              -0.500000      -0.500000    0.999547       0.003567   \n",
       "99              -0.500000      -0.500000    0.999999       0.007788   \n",
       "145             -0.500000      -0.500000    0.999267       0.001497   \n",
       "...                   ...            ...         ...            ...   \n",
       "128356          10.708651       0.977811    0.991739       0.032839   \n",
       "128490           7.053065       0.740276    0.979279       0.039661   \n",
       "128556          11.677370       1.048642    0.953808      -0.019504   \n",
       "128628           4.158228       0.454654    0.909056      -0.031579   \n",
       "128680           0.304745      -0.179538    0.919563       0.042000   \n",
       "\n",
       "        classALeRCE  \n",
       "0              SNIa  \n",
       "54             SNIa  \n",
       "65            SNIbc  \n",
       "99             SNII  \n",
       "145            SNIa  \n",
       "...             ...  \n",
       "128356         SNIa  \n",
       "128490         SNIa  \n",
       "128556         SNIa  \n",
       "128628         SNIa  \n",
       "128680         SNIa  \n",
       "\n",
       "[2068 rows x 129 columns]"
      ]
     },
     "execution_count": 15,
     "metadata": {},
     "output_type": "execute_result"
    }
   ],
   "source": [
    "df"
   ]
  },
  {
   "cell_type": "markdown",
   "metadata": {
    "id": "Ig7FDIHSYPCP"
   },
   "source": [
    "## Clasificación: Random Forest"
   ]
  },
  {
   "cell_type": "code",
   "execution_count": 16,
   "metadata": {},
   "outputs": [],
   "source": [
    "X = df.copy()\n",
    "X = X.drop('oid', axis=1)\n",
    "X = X.drop('classALeRCE', axis=1)\n",
    "y = df['classALeRCE']\n",
    "test_size = 0.2\n",
    "\n",
    "random_state = 15\n",
    "\n",
    "X_train, X_test, y_train, y_test = train_test_split(X, y, test_size=test_size, random_state=random_state, stratify = y)"
   ]
  },
  {
   "cell_type": "code",
   "execution_count": 17,
   "metadata": {},
   "outputs": [],
   "source": [
    "# clf = RandomForestClassifier(max_depth=2, random_state=0)\n",
    "# clf.fit(X_train, y_train)"
   ]
  },
  {
   "cell_type": "code",
   "execution_count": 18,
   "metadata": {},
   "outputs": [
    {
     "data": {
      "text/html": [
       "<style>#sk-container-id-2 {color: black;background-color: white;}#sk-container-id-2 pre{padding: 0;}#sk-container-id-2 div.sk-toggleable {background-color: white;}#sk-container-id-2 label.sk-toggleable__label {cursor: pointer;display: block;width: 100%;margin-bottom: 0;padding: 0.3em;box-sizing: border-box;text-align: center;}#sk-container-id-2 label.sk-toggleable__label-arrow:before {content: \"▸\";float: left;margin-right: 0.25em;color: #696969;}#sk-container-id-2 label.sk-toggleable__label-arrow:hover:before {color: black;}#sk-container-id-2 div.sk-estimator:hover label.sk-toggleable__label-arrow:before {color: black;}#sk-container-id-2 div.sk-toggleable__content {max-height: 0;max-width: 0;overflow: hidden;text-align: left;background-color: #f0f8ff;}#sk-container-id-2 div.sk-toggleable__content pre {margin: 0.2em;color: black;border-radius: 0.25em;background-color: #f0f8ff;}#sk-container-id-2 input.sk-toggleable__control:checked~div.sk-toggleable__content {max-height: 200px;max-width: 100%;overflow: auto;}#sk-container-id-2 input.sk-toggleable__control:checked~label.sk-toggleable__label-arrow:before {content: \"▾\";}#sk-container-id-2 div.sk-estimator input.sk-toggleable__control:checked~label.sk-toggleable__label {background-color: #d4ebff;}#sk-container-id-2 div.sk-label input.sk-toggleable__control:checked~label.sk-toggleable__label {background-color: #d4ebff;}#sk-container-id-2 input.sk-hidden--visually {border: 0;clip: rect(1px 1px 1px 1px);clip: rect(1px, 1px, 1px, 1px);height: 1px;margin: -1px;overflow: hidden;padding: 0;position: absolute;width: 1px;}#sk-container-id-2 div.sk-estimator {font-family: monospace;background-color: #f0f8ff;border: 1px dotted black;border-radius: 0.25em;box-sizing: border-box;margin-bottom: 0.5em;}#sk-container-id-2 div.sk-estimator:hover {background-color: #d4ebff;}#sk-container-id-2 div.sk-parallel-item::after {content: \"\";width: 100%;border-bottom: 1px solid gray;flex-grow: 1;}#sk-container-id-2 div.sk-label:hover label.sk-toggleable__label {background-color: #d4ebff;}#sk-container-id-2 div.sk-serial::before {content: \"\";position: absolute;border-left: 1px solid gray;box-sizing: border-box;top: 0;bottom: 0;left: 50%;z-index: 0;}#sk-container-id-2 div.sk-serial {display: flex;flex-direction: column;align-items: center;background-color: white;padding-right: 0.2em;padding-left: 0.2em;position: relative;}#sk-container-id-2 div.sk-item {position: relative;z-index: 1;}#sk-container-id-2 div.sk-parallel {display: flex;align-items: stretch;justify-content: center;background-color: white;position: relative;}#sk-container-id-2 div.sk-item::before, #sk-container-id-2 div.sk-parallel-item::before {content: \"\";position: absolute;border-left: 1px solid gray;box-sizing: border-box;top: 0;bottom: 0;left: 50%;z-index: -1;}#sk-container-id-2 div.sk-parallel-item {display: flex;flex-direction: column;z-index: 1;position: relative;background-color: white;}#sk-container-id-2 div.sk-parallel-item:first-child::after {align-self: flex-end;width: 50%;}#sk-container-id-2 div.sk-parallel-item:last-child::after {align-self: flex-start;width: 50%;}#sk-container-id-2 div.sk-parallel-item:only-child::after {width: 0;}#sk-container-id-2 div.sk-dashed-wrapped {border: 1px dashed gray;margin: 0 0.4em 0.5em 0.4em;box-sizing: border-box;padding-bottom: 0.4em;background-color: white;}#sk-container-id-2 div.sk-label label {font-family: monospace;font-weight: bold;display: inline-block;line-height: 1.2em;}#sk-container-id-2 div.sk-label-container {text-align: center;}#sk-container-id-2 div.sk-container {/* jupyter's `normalize.less` sets `[hidden] { display: none; }` but bootstrap.min.css set `[hidden] { display: none !important; }` so we also need the `!important` here to be able to override the default hidden behavior on the sphinx rendered scikit-learn.org. See: https://github.com/scikit-learn/scikit-learn/issues/21755 */display: inline-block !important;position: relative;}#sk-container-id-2 div.sk-text-repr-fallback {display: none;}</style><div id=\"sk-container-id-2\" class=\"sk-top-container\"><div class=\"sk-text-repr-fallback\"><pre>BalancedRandomForestClassifier(max_depth=8, random_state=0, replacement=True,\n",
       "                               sampling_strategy=&#x27;all&#x27;)</pre><b>In a Jupyter environment, please rerun this cell to show the HTML representation or trust the notebook. <br />On GitHub, the HTML representation is unable to render, please try loading this page with nbviewer.org.</b></div><div class=\"sk-container\" hidden><div class=\"sk-item\"><div class=\"sk-estimator sk-toggleable\"><input class=\"sk-toggleable__control sk-hidden--visually\" id=\"sk-estimator-id-2\" type=\"checkbox\" checked><label for=\"sk-estimator-id-2\" class=\"sk-toggleable__label sk-toggleable__label-arrow\">BalancedRandomForestClassifier</label><div class=\"sk-toggleable__content\"><pre>BalancedRandomForestClassifier(max_depth=8, random_state=0, replacement=True,\n",
       "                               sampling_strategy=&#x27;all&#x27;)</pre></div></div></div></div></div>"
      ],
      "text/plain": [
       "BalancedRandomForestClassifier(max_depth=8, random_state=0, replacement=True,\n",
       "                               sampling_strategy='all')"
      ]
     },
     "execution_count": 18,
     "metadata": {},
     "output_type": "execute_result"
    }
   ],
   "source": [
    "clf = BalancedRandomForestClassifier(sampling_strategy=\"all\", max_depth = 8, replacement=True, random_state=0)\n",
    "\n",
    "# clf = RandomForestClassifier(max_depth=6, random_state=0)\n",
    "clf.fit(X_train, y_train)"
   ]
  },
  {
   "cell_type": "code",
   "execution_count": 19,
   "metadata": {},
   "outputs": [
    {
     "data": {
      "text/plain": [
       "array(['SNIbc', 'SNII', 'SNIa', 'SNIa', 'SNIbc'], dtype=object)"
      ]
     },
     "execution_count": 19,
     "metadata": {},
     "output_type": "execute_result"
    }
   ],
   "source": [
    "y_pred = clf.predict(X_test)\n",
    "y_pred[:5]"
   ]
  },
  {
   "cell_type": "code",
   "execution_count": null,
   "metadata": {},
   "outputs": [],
   "source": []
  },
  {
   "cell_type": "markdown",
   "metadata": {},
   "source": [
    "**Accuracy**"
   ]
  },
  {
   "cell_type": "code",
   "execution_count": 20,
   "metadata": {},
   "outputs": [
    {
     "data": {
      "text/plain": [
       "0.538647342995169"
      ]
     },
     "execution_count": 20,
     "metadata": {},
     "output_type": "execute_result"
    }
   ],
   "source": [
    "accuracy_score(y_test, y_pred)"
   ]
  },
  {
   "cell_type": "code",
   "execution_count": null,
   "metadata": {},
   "outputs": [],
   "source": []
  },
  {
   "cell_type": "markdown",
   "metadata": {},
   "source": [
    "**Reporte de metricas**"
   ]
  },
  {
   "cell_type": "code",
   "execution_count": 21,
   "metadata": {},
   "outputs": [
    {
     "name": "stdout",
     "output_type": "stream",
     "text": [
      "              precision    recall  f1-score   support\n",
      "\n",
      "        SLSN       0.17      0.71      0.27         7\n",
      "        SNII       0.62      0.53      0.57        78\n",
      "        SNIa       0.88      0.55      0.68       308\n",
      "       SNIbc       0.06      0.38      0.11        21\n",
      "\n",
      "    accuracy                           0.54       414\n",
      "   macro avg       0.43      0.54      0.41       414\n",
      "weighted avg       0.78      0.54      0.62       414\n",
      "\n"
     ]
    }
   ],
   "source": [
    "print(classification_report(y_test, y_pred, target_names = clf.classes_))"
   ]
  },
  {
   "cell_type": "code",
   "execution_count": null,
   "metadata": {},
   "outputs": [],
   "source": []
  },
  {
   "cell_type": "markdown",
   "metadata": {},
   "source": [
    "**Matriz de confusion**"
   ]
  },
  {
   "cell_type": "code",
   "execution_count": 22,
   "metadata": {},
   "outputs": [],
   "source": [
    "cm = confusion_matrix(y_test, y_pred, labels = clf.classes_)\n",
    "disp = ConfusionMatrixDisplay(confusion_matrix = cm, display_labels = clf.classes_)"
   ]
  },
  {
   "cell_type": "code",
   "execution_count": 23,
   "metadata": {},
   "outputs": [
    {
     "data": {
      "text/plain": [
       "<sklearn.metrics._plot.confusion_matrix.ConfusionMatrixDisplay at 0x7f71ee1e2fd0>"
      ]
     },
     "execution_count": 23,
     "metadata": {},
     "output_type": "execute_result"
    },
    {
     "data": {
      "image/png": "[encoded data removed]",
      "text/plain": [
       "<Figure size 432x288 with 2 Axes>"
      ]
     },
     "metadata": {
      "needs_background": "light"
     },
     "output_type": "display_data"
    }
   ],
   "source": [
    "disp.plot()"
   ]
  },
  {
   "cell_type": "code",
   "execution_count": null,
   "metadata": {},
   "outputs": [],
   "source": []
  },
  {
   "cell_type": "code",
   "execution_count": null,
   "metadata": {},
   "outputs": [],
   "source": []
  },
  {
   "cell_type": "code",
   "execution_count": null,
   "metadata": {},
   "outputs": [],
   "source": []
  },
  {
   "cell_type": "code",
   "execution_count": null,
   "metadata": {},
   "outputs": [],
   "source": []
  }
 ],
 "metadata": {
  "colab": {
   "provenance": []
  },
  "kernelspec": {
   "display_name": "Python 3 (ipykernel)",
   "language": "python",
   "name": "python3"
  },
  "language_info": {
   "codemirror_mode": {
    "name": "ipython",
    "version": 3
   },
   "file_extension": ".py",
   "mimetype": "text/x-python",
   "name": "python",
   "nbconvert_exporter": "python",
   "pygments_lexer": "ipython3",
   "version": "3.9.13"
  }
 },
 "nbformat": 4,
 "nbformat_minor": 4
}
