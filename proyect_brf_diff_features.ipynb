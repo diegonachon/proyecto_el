{
 "cells": [
  {
   "cell_type": "markdown",
   "metadata": {
    "id": "rdy7tVEYYLWi"
   },
   "source": [
    "## Importar librerías"
   ]
  },
  {
   "cell_type": "code",
   "execution_count": 1,
   "metadata": {},
   "outputs": [],
   "source": [
    "# !pip install imblearn"
   ]
  },
  {
   "cell_type": "code",
   "execution_count": 2,
   "metadata": {
    "id": "L3g_qCB7Xg6A"
   },
   "outputs": [],
   "source": [
    "import pandas as pd\n",
    "import numpy as np\n",
    "\n",
    "from imblearn.ensemble import BalancedRandomForestClassifier\n",
    "from sklearn.model_selection import train_test_split, cross_validate\n",
    "from sklearn.ensemble import RandomForestClassifier\n",
    "from sklearn.neighbors import KNeighborsClassifier\n",
    "from sklearn.metrics import accuracy_score, classification_report , confusion_matrix, ConfusionMatrixDisplay\n",
    "from sklearn.ensemble import GradientBoostingClassifier\n",
    "\n",
    "from prettytable import PrettyTable\n",
    "from matplotlib import pyplot as plt\n",
    "import random\n",
    "import statistics"
   ]
  },
  {
   "cell_type": "markdown",
   "metadata": {
    "id": "inbIoZdiYDqW"
   },
   "source": [
    "## Importar Dataset prerpocesado"
   ]
  },
  {
   "cell_type": "code",
   "execution_count": 3,
   "metadata": {},
   "outputs": [],
   "source": [
    "df = pd.read_pickle('dataset_treated.pkl')"
   ]
  },
  {
   "cell_type": "markdown",
   "metadata": {},
   "source": [
    "## Desarrollo de modelos con distintas features"
   ]
  },
  {
   "cell_type": "markdown",
   "metadata": {
    "tags": []
   },
   "source": [
    "### Separación en sets de testeo y entrenamiento"
   ]
  },
  {
   "cell_type": "code",
   "execution_count": 4,
   "metadata": {},
   "outputs": [],
   "source": [
    "X = df.copy()\n",
    "X = X.drop('oid', axis=1)\n",
    "X = X.drop('classALeRCE', axis=1)\n",
    "y = df['classALeRCE']\n",
    "test_size = 0.2\n",
    "\n",
    "random_state = 15\n",
    "\n",
    "X_train, X_test, y_train, y_test = train_test_split(X, y, test_size=test_size, random_state=random_state, stratify = y)"
   ]
  },
  {
   "cell_type": "markdown",
   "metadata": {},
   "source": [
    "### **Modelo con features del paper**"
   ]
  },
  {
   "cell_type": "code",
   "execution_count": 5,
   "metadata": {},
   "outputs": [],
   "source": [
    "features_paper = ['AndersonDarling_r', 'Gskew_r', 'Harmonics_mag_6_g', 'IAR_phi_g', 'IAR_phi_r', 'LinearTrend_g',\n",
    "                  'LinearTrend_r', 'MHPS_low_g', 'MHPS_low_r', 'MHPS_ratio_g', 'MHPS_ratio_r', 'Power_rate_2',\n",
    "                  'PPE', 'Skew_r', 'SPM_beta_g', 'SPM_beta_r', 'SPM_gamma_g', 'SPM_gamma_r', 'SPM_t0_g',\n",
    "                  'SPM_t0_r', 'SPM_tau_fall_g', 'SPM_tau_fall_r', 'SPM_tau_rise_g', 'SPM_tau_rise_r', 'Mean_g', 'Mean_r']"
   ]
  },
  {
   "cell_type": "code",
   "execution_count": 6,
   "metadata": {},
   "outputs": [],
   "source": [
    "X_train_paper = X_train[features_paper]\n",
    "X_test_paper = X_test[features_paper]"
   ]
  },
  {
   "cell_type": "markdown",
   "metadata": {},
   "source": [
    "#### Entrenamiento de modelo"
   ]
  },
  {
   "cell_type": "code",
   "execution_count": 7,
   "metadata": {},
   "outputs": [],
   "source": [
    "macro_prec = []\n",
    "macro_reca = []\n",
    "macro_f1sc = []\n",
    "\n",
    "for i in range(10):\n",
    "    clf0 = BalancedRandomForestClassifier(sampling_strategy=\"all\", replacement=True)\n",
    "    clf0.fit(X_train_paper, y_train)\n",
    "    y_pred0 = clf0.predict(X_test_paper)\n",
    "    report = classification_report(y_test, y_pred0, output_dict=True)\n",
    "    macro_precision =  report['macro avg']['precision'] \n",
    "    macro_recall = report['macro avg']['recall']    \n",
    "    macro_f1 = report['macro avg']['f1-score']\n",
    "    macro_prec.append(macro_precision)\n",
    "    macro_reca.append(macro_recall)\n",
    "    macro_f1sc.append(macro_f1)"
   ]
  },
  {
   "cell_type": "markdown",
   "metadata": {},
   "source": [
    "#### Evaluación"
   ]
  },
  {
   "cell_type": "markdown",
   "metadata": {},
   "source": [
    "**Reporte de métricas**"
   ]
  },
  {
   "cell_type": "code",
   "execution_count": 8,
   "metadata": {},
   "outputs": [
    {
     "name": "stdout",
     "output_type": "stream",
     "text": [
      "macro_prec:  0.519626697041987 +- 0.011085064987070679\n",
      "macro_reca:  0.6270495866386278 +- 0.02769890819536605\n",
      "macro_f1sc:  0.5268012240718941 +- 0.012106010232432534\n"
     ]
    }
   ],
   "source": [
    "print('macro_prec: ', statistics.mean(macro_prec),'+-',statistics.stdev(macro_prec))\n",
    "print('macro_reca: ', statistics.mean(macro_reca),'+-',statistics.stdev(macro_reca))\n",
    "print('macro_f1sc: ', statistics.mean(macro_f1sc),'+-',statistics.stdev(macro_f1sc))"
   ]
  },
  {
   "cell_type": "code",
   "execution_count": 9,
   "metadata": {},
   "outputs": [
    {
     "name": "stdout",
     "output_type": "stream",
     "text": [
      "              precision    recall  f1-score   support\n",
      "\n",
      "        SLSN       0.31      0.71      0.43         7\n",
      "        SNII       0.75      0.60      0.67        73\n",
      "        SNIa       0.93      0.80      0.86       286\n",
      "       SNIbc       0.11      0.39      0.18        18\n",
      "\n",
      "    accuracy                           0.74       384\n",
      "   macro avg       0.52      0.63      0.53       384\n",
      "weighted avg       0.84      0.74      0.78       384\n",
      "\n"
     ]
    }
   ],
   "source": [
    "print(classification_report(y_test, y_pred0, target_names = clf0.classes_))"
   ]
  },
  {
   "cell_type": "markdown",
   "metadata": {},
   "source": [
    "**Matriz de confusión**"
   ]
  },
  {
   "cell_type": "code",
   "execution_count": 10,
   "metadata": {},
   "outputs": [
    {
     "data": {
      "text/plain": [
       "<sklearn.metrics._plot.confusion_matrix.ConfusionMatrixDisplay at 0x7f9b441a5520>"
      ]
     },
     "execution_count": 10,
     "metadata": {},
     "output_type": "execute_result"
    },
    {
     "data": {
      "image/png": "[encoded data removed]",
      "text/plain": [
       "<Figure size 432x288 with 2 Axes>"
      ]
     },
     "metadata": {
      "needs_background": "light"
     },
     "output_type": "display_data"
    }
   ],
   "source": [
    "ConfusionMatrixDisplay.from_predictions(y_test, y_pred0, cmap=plt.cm.Blues, normalize=\"true\")"
   ]
  },
  {
   "cell_type": "markdown",
   "metadata": {
    "tags": []
   },
   "source": [
    "### **Modelo con features de BRF**"
   ]
  },
  {
   "cell_type": "code",
   "execution_count": 11,
   "metadata": {},
   "outputs": [],
   "source": [
    "brf_best_col = ['delta_mjd_fid_g', 'first_mag_g', 'delta_mjd_fid_r', 'first_mag_r',\n",
    "                'min_mag_r', 'MHPS_ratio_g', 'MHPS_low_g', 'MHPS_high_g',\n",
    "                'GP_DRW_tau_g', 'GP_DRW_sigma_r', 'Power_rate_4', 'Std_g', 'IAR_phi_g',\n",
    "                'LinearTrend_g', 'AndersonDarling_r', 'MedianAbsDev_r',\n",
    "                'PairSlopeTrend_r', 'Q31_r', 'Std_r', 'LinearTrend_r', 'SPM_t0_g',\n",
    "                'SPM_gamma_g', 'SPM_tau_rise_g', 'SPM_tau_fall_g', 'SPM_A_r',\n",
    "                'SPM_t0_r', 'SPM_gamma_r', 'SPM_beta_r', 'SPM_tau_rise_r',\n",
    "                'SPM_tau_fall_r']"
   ]
  },
  {
   "cell_type": "code",
   "execution_count": 12,
   "metadata": {},
   "outputs": [],
   "source": [
    "X_train_brf = X_train[brf_best_col]\n",
    "X_test_brf = X_test[brf_best_col]"
   ]
  },
  {
   "cell_type": "markdown",
   "metadata": {},
   "source": [
    "#### Entrenamiento de modelo"
   ]
  },
  {
   "cell_type": "code",
   "execution_count": 13,
   "metadata": {},
   "outputs": [],
   "source": [
    "macro_prec = []\n",
    "macro_reca = []\n",
    "macro_f1sc = []\n",
    "\n",
    "for i in range(10):\n",
    "    clf = BalancedRandomForestClassifier(sampling_strategy=\"all\", replacement=True)\n",
    "    clf.fit(X_train_brf, y_train)\n",
    "    y_pred = clf.predict(X_test_brf)\n",
    "    report = classification_report(y_test, y_pred, output_dict=True)\n",
    "    macro_precision =  report['macro avg']['precision'] \n",
    "    macro_recall = report['macro avg']['recall']    \n",
    "    macro_f1 = report['macro avg']['f1-score']\n",
    "    macro_prec.append(macro_precision)\n",
    "    macro_reca.append(macro_recall)\n",
    "    macro_f1sc.append(macro_f1)"
   ]
  },
  {
   "cell_type": "markdown",
   "metadata": {},
   "source": [
    "#### Evaluación"
   ]
  },
  {
   "cell_type": "markdown",
   "metadata": {},
   "source": [
    "**Reporte de métricas**"
   ]
  },
  {
   "cell_type": "code",
   "execution_count": 14,
   "metadata": {},
   "outputs": [
    {
     "name": "stdout",
     "output_type": "stream",
     "text": [
      "macro_prec:  0.5310480527676456 +- 0.02378567957875571\n",
      "macro_reca:  0.6725975128372388 +- 0.042843386319221424\n",
      "macro_f1sc:  0.5464098740222505 +- 0.026352520281537905\n"
     ]
    }
   ],
   "source": [
    "print('macro_prec: ', statistics.mean(macro_prec),'+-',statistics.stdev(macro_prec))\n",
    "print('macro_reca: ', statistics.mean(macro_reca),'+-',statistics.stdev(macro_reca))\n",
    "print('macro_f1sc: ', statistics.mean(macro_f1sc),'+-',statistics.stdev(macro_f1sc))"
   ]
  },
  {
   "cell_type": "code",
   "execution_count": 15,
   "metadata": {},
   "outputs": [
    {
     "name": "stdout",
     "output_type": "stream",
     "text": [
      "              precision    recall  f1-score   support\n",
      "\n",
      "        SLSN       0.26      0.71      0.38         7\n",
      "        SNII       0.68      0.64      0.66        73\n",
      "        SNIa       0.93      0.74      0.83       286\n",
      "       SNIbc       0.09      0.33      0.14        18\n",
      "\n",
      "    accuracy                           0.71       384\n",
      "   macro avg       0.49      0.61      0.50       384\n",
      "weighted avg       0.83      0.71      0.75       384\n",
      "\n"
     ]
    }
   ],
   "source": [
    "print(classification_report(y_test, y_pred, target_names = clf.classes_))"
   ]
  },
  {
   "cell_type": "markdown",
   "metadata": {},
   "source": [
    "**Matriz de confusión**"
   ]
  },
  {
   "cell_type": "code",
   "execution_count": 16,
   "metadata": {},
   "outputs": [
    {
     "data": {
      "text/plain": [
       "<sklearn.metrics._plot.confusion_matrix.ConfusionMatrixDisplay at 0x7f9b3c0ef250>"
      ]
     },
     "execution_count": 16,
     "metadata": {},
     "output_type": "execute_result"
    },
    {
     "data": {
      "image/png": "[encoded data removed]",
      "text/plain": [
       "<Figure size 432x288 with 2 Axes>"
      ]
     },
     "metadata": {
      "needs_background": "light"
     },
     "output_type": "display_data"
    }
   ],
   "source": [
    "ConfusionMatrixDisplay.from_predictions(y_test, y_pred, cmap=plt.cm.Blues, normalize=\"true\")"
   ]
  },
  {
   "cell_type": "markdown",
   "metadata": {
    "tags": []
   },
   "source": [
    "### **Modelo con features sin correlación**"
   ]
  },
  {
   "cell_type": "code",
   "execution_count": 17,
   "metadata": {},
   "outputs": [],
   "source": [
    "nocorr_best_col = ['delta_mag_fid_g', 'delta_mjd_fid_g', 'first_mag_g', 'min_mag_g',\n",
    "                   'n_det_g', 'delta_mag_fid_r', 'first_mag_r', 'MHPS_ratio_g',\n",
    "                   'MHPS_ratio_r', 'MHPS_high_r', 'Multiband_period', 'GP_DRW_tau_g',\n",
    "                   'GP_DRW_tau_r', 'Psi_CS_g', 'Psi_CS_r', 'Psi_eta_r', 'iqr_r',\n",
    "                   'Amplitude_g', 'Amplitude_r', 'Pvar_r', 'SPM_t0_g', 'SPM_gamma_g',\n",
    "                   'SPM_tau_rise_g', 'SPM_t0_r', 'SPM_gamma_r', 'SPM_beta_r',\n",
    "                   'SPM_tau_rise_r', 'SPM_tau_fall_r', 'sgscore1']"
   ]
  },
  {
   "cell_type": "code",
   "execution_count": 18,
   "metadata": {},
   "outputs": [],
   "source": [
    "X_train_nocorr = X_train[nocorr_best_col]\n",
    "X_test_nocorr = X_test[nocorr_best_col]"
   ]
  },
  {
   "cell_type": "markdown",
   "metadata": {},
   "source": [
    "#### Entrenamiento del modelo"
   ]
  },
  {
   "cell_type": "code",
   "execution_count": 19,
   "metadata": {},
   "outputs": [],
   "source": [
    "macro_prec = []\n",
    "macro_reca = []\n",
    "macro_f1sc = []\n",
    "\n",
    "for i in range(10):\n",
    "    clf2 = BalancedRandomForestClassifier(sampling_strategy=\"all\", replacement=True)\n",
    "    clf2.fit(X_train_nocorr, y_train)\n",
    "    y_pred2 = clf2.predict(X_test_nocorr)\n",
    "    report = classification_report(y_test, y_pred2, output_dict=True)\n",
    "    macro_precision =  report['macro avg']['precision'] \n",
    "    macro_recall = report['macro avg']['recall']    \n",
    "    macro_f1 = report['macro avg']['f1-score']\n",
    "    macro_prec.append(macro_precision)\n",
    "    macro_reca.append(macro_recall)\n",
    "    macro_f1sc.append(macro_f1)"
   ]
  },
  {
   "cell_type": "markdown",
   "metadata": {},
   "source": [
    "#### Evaluación"
   ]
  },
  {
   "cell_type": "markdown",
   "metadata": {},
   "source": [
    "**Reporte de métricas**"
   ]
  },
  {
   "cell_type": "code",
   "execution_count": 20,
   "metadata": {},
   "outputs": [
    {
     "name": "stdout",
     "output_type": "stream",
     "text": [
      "macro_prec:  0.4892560954119064 +- 0.019022056938300107\n",
      "macro_reca:  0.6119971732985432 +- 0.028889360479258133\n",
      "macro_f1sc:  0.5035292805644817 +- 0.017813127148551437\n"
     ]
    }
   ],
   "source": [
    "print('macro_prec: ', statistics.mean(macro_prec),'+-',statistics.stdev(macro_prec))\n",
    "print('macro_reca: ', statistics.mean(macro_reca),'+-',statistics.stdev(macro_reca))\n",
    "print('macro_f1sc: ', statistics.mean(macro_f1sc),'+-',statistics.stdev(macro_f1sc))"
   ]
  },
  {
   "cell_type": "code",
   "execution_count": 21,
   "metadata": {},
   "outputs": [
    {
     "name": "stdout",
     "output_type": "stream",
     "text": [
      "              precision    recall  f1-score   support\n",
      "\n",
      "        SLSN       0.31      0.71      0.43         7\n",
      "        SNII       0.71      0.62      0.66        73\n",
      "        SNIa       0.91      0.75      0.82       286\n",
      "       SNIbc       0.07      0.28      0.12        18\n",
      "\n",
      "    accuracy                           0.70       384\n",
      "   macro avg       0.50      0.59      0.51       384\n",
      "weighted avg       0.82      0.70      0.75       384\n",
      "\n"
     ]
    }
   ],
   "source": [
    "print(classification_report(y_test, y_pred2, target_names = clf2.classes_))"
   ]
  },
  {
   "cell_type": "markdown",
   "metadata": {},
   "source": [
    "**Matriz de confusión**"
   ]
  },
  {
   "cell_type": "code",
   "execution_count": 22,
   "metadata": {},
   "outputs": [
    {
     "data": {
      "text/plain": [
       "<sklearn.metrics._plot.confusion_matrix.ConfusionMatrixDisplay at 0x7f9b3bfb26a0>"
      ]
     },
     "execution_count": 22,
     "metadata": {},
     "output_type": "execute_result"
    },
    {
     "data": {
      "image/png": "[encoded data removed]",
      "text/plain": [
       "<Figure size 432x288 with 2 Axes>"
      ]
     },
     "metadata": {
      "needs_background": "light"
     },
     "output_type": "display_data"
    }
   ],
   "source": [
    "ConfusionMatrixDisplay.from_predictions(y_test, y_pred2, cmap=plt.cm.Blues, normalize=\"true\")"
   ]
  },
  {
   "cell_type": "markdown",
   "metadata": {},
   "source": [
    "### **Modelo con features de RFE**"
   ]
  },
  {
   "cell_type": "code",
   "execution_count": 23,
   "metadata": {},
   "outputs": [],
   "source": [
    "rfe_best_col = ['delta_mjd_fid_g', 'first_mag_g', 'delta_mjd_fid_r',\n",
    "                'first_mag_r', 'min_mag_r', 'MHPS_ratio_g', 'MHPS_high_g',\n",
    "                'MHPS_high_r', 'GP_DRW_tau_g', 'GP_DRW_tau_r', 'Skew_g', 'Amplitude_r',\n",
    "                'Gskew_r', 'Meanvariance_r', 'MedianAbsDev_r', 'PairSlopeTrend_r',\n",
    "                'StetsonK_r', 'LinearTrend_r', 'SPM_t0_g', 'SPM_gamma_g', 'SPM_beta_g',\n",
    "                'SPM_tau_rise_g', 'SPM_tau_fall_g', 'SPM_A_r', 'SPM_t0_r',\n",
    "                'SPM_gamma_r', 'SPM_beta_r', 'SPM_tau_rise_r', 'SPM_tau_fall_r',\n",
    "                'sgscore1']"
   ]
  },
  {
   "cell_type": "code",
   "execution_count": 24,
   "metadata": {},
   "outputs": [],
   "source": [
    "X_train_rfe = X_train[rfe_best_col]\n",
    "X_test_rfe = X_test[rfe_best_col]"
   ]
  },
  {
   "cell_type": "markdown",
   "metadata": {},
   "source": [
    "#### Entrenamiento del modelo"
   ]
  },
  {
   "cell_type": "code",
   "execution_count": 25,
   "metadata": {},
   "outputs": [],
   "source": [
    "macro_prec = []\n",
    "macro_reca = []\n",
    "macro_f1sc = []\n",
    "\n",
    "for i in range(10):\n",
    "    clf = BalancedRandomForestClassifier(sampling_strategy=\"all\", replacement=True)\n",
    "    clf.fit(X_train_rfe, y_train)\n",
    "    y_pred3 = clf.predict(X_test_rfe)\n",
    "    report = classification_report(y_test, y_pred3, output_dict=True)\n",
    "    macro_precision =  report['macro avg']['precision'] \n",
    "    macro_recall = report['macro avg']['recall']    \n",
    "    macro_f1 = report['macro avg']['f1-score']\n",
    "    macro_prec.append(macro_precision)\n",
    "    macro_reca.append(macro_recall)\n",
    "    macro_f1sc.append(macro_f1)"
   ]
  },
  {
   "cell_type": "markdown",
   "metadata": {},
   "source": [
    "#### Evaluación"
   ]
  },
  {
   "cell_type": "markdown",
   "metadata": {},
   "source": [
    "**Reporte de métricas**"
   ]
  },
  {
   "cell_type": "code",
   "execution_count": 26,
   "metadata": {},
   "outputs": [
    {
     "name": "stdout",
     "output_type": "stream",
     "text": [
      "macro_prec:  0.523100576951018 +- 0.0173177495148842\n",
      "macro_reca:  0.6471993379527626 +- 0.029578069524490307\n",
      "macro_f1sc:  0.5326310859377088 +- 0.022528825085366317\n"
     ]
    }
   ],
   "source": [
    "print('macro_prec: ', statistics.mean(macro_prec),'+-',statistics.stdev(macro_prec))\n",
    "print('macro_reca: ', statistics.mean(macro_reca),'+-',statistics.stdev(macro_reca))\n",
    "print('macro_f1sc: ', statistics.mean(macro_f1sc),'+-',statistics.stdev(macro_f1sc))"
   ]
  },
  {
   "cell_type": "code",
   "execution_count": 27,
   "metadata": {},
   "outputs": [
    {
     "name": "stdout",
     "output_type": "stream",
     "text": [
      "              precision    recall  f1-score   support\n",
      "\n",
      "        SLSN       0.32      1.00      0.48         7\n",
      "        SNII       0.79      0.63      0.70        73\n",
      "        SNIa       0.93      0.79      0.85       286\n",
      "       SNIbc       0.10      0.33      0.15        18\n",
      "\n",
      "    accuracy                           0.74       384\n",
      "   macro avg       0.53      0.69      0.55       384\n",
      "weighted avg       0.85      0.74      0.78       384\n",
      "\n"
     ]
    }
   ],
   "source": [
    "print(classification_report(y_test, y_pred3, target_names = clf.classes_))"
   ]
  },
  {
   "cell_type": "markdown",
   "metadata": {},
   "source": [
    "**Matriz de confusión**"
   ]
  },
  {
   "cell_type": "code",
   "execution_count": 28,
   "metadata": {},
   "outputs": [
    {
     "data": {
      "text/plain": [
       "<sklearn.metrics._plot.confusion_matrix.ConfusionMatrixDisplay at 0x7f9b3be7dbb0>"
      ]
     },
     "execution_count": 28,
     "metadata": {},
     "output_type": "execute_result"
    },
    {
     "data": {
      "image/png": "[encoded data removed]",
      "text/plain": [
       "<Figure size 432x288 with 2 Axes>"
      ]
     },
     "metadata": {
      "needs_background": "light"
     },
     "output_type": "display_data"
    }
   ],
   "source": [
    "ConfusionMatrixDisplay.from_predictions(y_test, y_pred3, cmap=plt.cm.Blues, normalize=\"true\")"
   ]
  },
  {
   "cell_type": "code",
   "execution_count": null,
   "metadata": {},
   "outputs": [],
   "source": []
  },
  {
   "cell_type": "code",
   "execution_count": null,
   "metadata": {},
   "outputs": [],
   "source": []
  }
 ],
 "metadata": {
  "colab": {
   "provenance": []
  },
  "kernelspec": {
   "display_name": "Python 3 (ipykernel)",
   "language": "python",
   "name": "python3"
  },
  "language_info": {
   "codemirror_mode": {
    "name": "ipython",
    "version": 3
   },
   "file_extension": ".py",
   "mimetype": "text/x-python",
   "name": "python",
   "nbconvert_exporter": "python",
   "pygments_lexer": "ipython3",
   "version": "3.9.13"
  }
 },
 "nbformat": 4,
 "nbformat_minor": 4
}
