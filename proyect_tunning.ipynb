{
 "cells": [
  {
   "cell_type": "markdown",
   "metadata": {
    "id": "rdy7tVEYYLWi"
   },
   "source": [
    "## Importar librerías"
   ]
  },
  {
   "cell_type": "code",
   "execution_count": 1,
   "metadata": {},
   "outputs": [],
   "source": [
    "# !pip install imblearn\n",
    "# !pip install prettytable"
   ]
  },
  {
   "cell_type": "code",
   "execution_count": 1,
   "metadata": {
    "id": "L3g_qCB7Xg6A"
   },
   "outputs": [],
   "source": [
    "import pandas as pd\n",
    "import numpy as np\n",
    "\n",
    "from imblearn.ensemble import BalancedRandomForestClassifier\n",
    "from sklearn.model_selection import train_test_split, cross_validate\n",
    "from sklearn.ensemble import RandomForestClassifier\n",
    "from sklearn.neighbors import KNeighborsClassifier\n",
    "from sklearn.metrics import accuracy_score, classification_report , confusion_matrix, ConfusionMatrixDisplay\n",
    "from sklearn.ensemble import GradientBoostingClassifier\n",
    "\n",
    "from prettytable import PrettyTable\n",
    "from matplotlib import pyplot as plt\n",
    "from imblearn.under_sampling import RandomUnderSampler\n",
    "from imblearn.over_sampling import RandomOverSampler"
   ]
  },
  {
   "cell_type": "markdown",
   "metadata": {
    "id": "inbIoZdiYDqW"
   },
   "source": [
    "## Importar Dataset preprocesado"
   ]
  },
  {
   "cell_type": "code",
   "execution_count": 2,
   "metadata": {
    "colab": {
     "base_uri": "https://localhost:8080/"
    },
    "id": "Y9iNcsXgYTru",
    "outputId": "387e6c71-4988-48e2-85cd-7c4c31ac51b0"
   },
   "outputs": [],
   "source": [
    "df = pd.read_pickle('dataset_treated.pkl')"
   ]
  },
  {
   "cell_type": "markdown",
   "metadata": {},
   "source": [
    "## Preparación de datos"
   ]
  },
  {
   "cell_type": "markdown",
   "metadata": {},
   "source": [
    "### Separación en sets de testeo y entrenamiento"
   ]
  },
  {
   "cell_type": "code",
   "execution_count": 3,
   "metadata": {},
   "outputs": [],
   "source": [
    "X = df.copy()\n",
    "X = X.drop('oid', axis=1)\n",
    "X = X.drop('classALeRCE', axis=1)\n",
    "y = df['classALeRCE']\n",
    "test_size = 0.2\n",
    "\n",
    "random_state = 15\n",
    "\n",
    "X_train, X_test, y_train, y_test = train_test_split(X, y, test_size=test_size, random_state=random_state, stratify = y)"
   ]
  },
  {
   "cell_type": "markdown",
   "metadata": {
    "tags": []
   },
   "source": [
    "### Utilizar features obtenidas de BRF"
   ]
  },
  {
   "cell_type": "code",
   "execution_count": 4,
   "metadata": {},
   "outputs": [],
   "source": [
    "brf_best_col = ['delta_mjd_fid_g', 'first_mag_g', 'delta_mjd_fid_r', 'first_mag_r',\n",
    "                'min_mag_r', 'MHPS_ratio_g', 'MHPS_low_g', 'MHPS_high_g',\n",
    "                'GP_DRW_tau_g', 'GP_DRW_sigma_r', 'Power_rate_4', 'Std_g', 'IAR_phi_g',\n",
    "                'LinearTrend_g', 'AndersonDarling_r', 'MedianAbsDev_r',\n",
    "                'PairSlopeTrend_r', 'Q31_r', 'Std_r', 'LinearTrend_r', 'SPM_t0_g',\n",
    "                'SPM_gamma_g', 'SPM_tau_rise_g', 'SPM_tau_fall_g', 'SPM_A_r',\n",
    "                'SPM_t0_r', 'SPM_gamma_r', 'SPM_beta_r', 'SPM_tau_rise_r',\n",
    "                'SPM_tau_fall_r']"
   ]
  },
  {
   "cell_type": "code",
   "execution_count": 5,
   "metadata": {},
   "outputs": [],
   "source": [
    "X_train = X_train[brf_best_col]\n",
    "X_test = X_test[brf_best_col]"
   ]
  },
  {
   "cell_type": "markdown",
   "metadata": {
    "tags": []
   },
   "source": [
    "## Tunning de modelos"
   ]
  },
  {
   "cell_type": "markdown",
   "metadata": {
    "jp-MarkdownHeadingCollapsed": true,
    "tags": []
   },
   "source": [
    "### Balanced Random Forest"
   ]
  },
  {
   "cell_type": "code",
   "execution_count": 21,
   "metadata": {},
   "outputs": [],
   "source": [
    "hyperparameter_score_list = []\n",
    "for estimators in [200, 300, 400, 500]:\n",
    "    for depth in range(3,15):\n",
    "        for features in ['sqrt', 'log2']:\n",
    "            brfc = BalancedRandomForestClassifier(sampling_strategy = 'all', \n",
    "                                                  replacement = True,\n",
    "                                                  n_estimators = estimators, max_depth = depth, max_features = features, random_state=0)\n",
    "            scores = cross_validate(brfc, X_train, y_train, cv=5, scoring='recall_macro')\n",
    "            mean_score = np.mean(scores['test_score'])\n",
    "            hyperparameter_score_list.append([estimators, depth, features, mean_score])"
   ]
  },
  {
   "cell_type": "code",
   "execution_count": 22,
   "metadata": {},
   "outputs": [
    {
     "name": "stdout",
     "output_type": "stream",
     "text": [
      "+------------+-------+----------+------------------+\n",
      "| estimators | depth | features | avg macro-recall |\n",
      "+------------+-------+----------+------------------+\n",
      "|    200     |   3   |   sqrt   |      0.595       |\n",
      "|    200     |   3   |   log2   |      0.583       |\n",
      "|    200     |   4   |   sqrt   |      0.614       |\n",
      "|    200     |   4   |   log2   |      0.574       |\n",
      "|    200     |   5   |   sqrt   |      0.605       |\n",
      "|    200     |   5   |   log2   |      0.585       |\n",
      "|    200     |   6   |   sqrt   |      0.623       |\n",
      "|    200     |   6   |   log2   |      0.619       |\n",
      "|    200     |   7   |   sqrt   |      0.626       |\n",
      "|    200     |   7   |   log2   |       0.61       |\n",
      "|    200     |   8   |   sqrt   |      0.614       |\n",
      "|    200     |   8   |   log2   |      0.616       |\n",
      "|    200     |   9   |   sqrt   |      0.611       |\n",
      "|    200     |   9   |   log2   |      0.614       |\n",
      "|    200     |   10  |   sqrt   |       0.61       |\n",
      "|    200     |   10  |   log2   |      0.618       |\n",
      "|    200     |   11  |   sqrt   |      0.606       |\n",
      "|    200     |   11  |   log2   |       0.62       |\n",
      "|    200     |   12  |   sqrt   |      0.606       |\n",
      "|    200     |   12  |   log2   |       0.62       |\n",
      "|    200     |   13  |   sqrt   |      0.606       |\n",
      "|    200     |   13  |   log2   |      0.616       |\n",
      "|    200     |   14  |   sqrt   |      0.606       |\n",
      "|    200     |   14  |   log2   |       0.62       |\n",
      "|    300     |   3   |   sqrt   |      0.609       |\n",
      "|    300     |   3   |   log2   |      0.593       |\n",
      "|    300     |   4   |   sqrt   |      0.614       |\n",
      "|    300     |   4   |   log2   |      0.597       |\n",
      "|    300     |   5   |   sqrt   |      0.617       |\n",
      "|    300     |   5   |   log2   |      0.601       |\n",
      "|    300     |   6   |   sqrt   |      0.626       |\n",
      "|    300     |   6   |   log2   |      0.605       |\n",
      "|    300     |   7   |   sqrt   |      0.623       |\n",
      "|    300     |   7   |   log2   |      0.609       |\n",
      "|    300     |   8   |   sqrt   |      0.614       |\n",
      "|    300     |   8   |   log2   |      0.617       |\n",
      "|    300     |   9   |   sqrt   |      0.619       |\n",
      "|    300     |   9   |   log2   |      0.617       |\n",
      "|    300     |   10  |   sqrt   |      0.616       |\n",
      "|    300     |   10  |   log2   |      0.612       |\n",
      "|    300     |   11  |   sqrt   |      0.616       |\n",
      "|    300     |   11  |   log2   |      0.615       |\n",
      "|    300     |   12  |   sqrt   |      0.617       |\n",
      "|    300     |   12  |   log2   |      0.615       |\n",
      "|    300     |   13  |   sqrt   |      0.617       |\n",
      "|    300     |   13  |   log2   |      0.615       |\n",
      "|    300     |   14  |   sqrt   |      0.617       |\n",
      "|    300     |   14  |   log2   |      0.615       |\n",
      "|    400     |   3   |   sqrt   |      0.601       |\n",
      "|    400     |   3   |   log2   |      0.598       |\n",
      "|    400     |   4   |   sqrt   |      0.611       |\n",
      "|    400     |   4   |   log2   |      0.591       |\n",
      "|    400     |   5   |   sqrt   |      0.626       |\n",
      "|    400     |   5   |   log2   |      0.602       |\n",
      "|    400     |   6   |   sqrt   |      0.631       |\n",
      "|    400     |   6   |   log2   |      0.612       |\n",
      "|    400     |   7   |   sqrt   |      0.623       |\n",
      "|    400     |   7   |   log2   |      0.599       |\n",
      "|    400     |   8   |   sqrt   |      0.614       |\n",
      "|    400     |   8   |   log2   |      0.612       |\n",
      "|    400     |   9   |   sqrt   |      0.621       |\n",
      "|    400     |   9   |   log2   |      0.608       |\n",
      "|    400     |   10  |   sqrt   |      0.619       |\n",
      "|    400     |   10  |   log2   |      0.609       |\n",
      "|    400     |   11  |   sqrt   |      0.619       |\n",
      "|    400     |   11  |   log2   |      0.617       |\n",
      "|    400     |   12  |   sqrt   |      0.619       |\n",
      "|    400     |   12  |   log2   |      0.616       |\n",
      "|    400     |   13  |   sqrt   |      0.619       |\n",
      "|    400     |   13  |   log2   |      0.616       |\n",
      "|    400     |   14  |   sqrt   |      0.619       |\n",
      "|    400     |   14  |   log2   |      0.616       |\n",
      "|    500     |   3   |   sqrt   |      0.602       |\n",
      "|    500     |   3   |   log2   |      0.595       |\n",
      "|    500     |   4   |   sqrt   |      0.606       |\n",
      "|    500     |   4   |   log2   |       0.6        |\n",
      "|    500     |   5   |   sqrt   |      0.631       |\n",
      "|    500     |   5   |   log2   |       0.61       |\n",
      "|    500     |   6   |   sqrt   |       0.63       |\n",
      "|    500     |   6   |   log2   |      0.619       |\n",
      "|    500     |   7   |   sqrt   |      0.617       |\n",
      "|    500     |   7   |   log2   |      0.607       |\n",
      "|    500     |   8   |   sqrt   |      0.627       |\n",
      "|    500     |   8   |   log2   |      0.611       |\n",
      "|    500     |   9   |   sqrt   |      0.626       |\n",
      "|    500     |   9   |   log2   |      0.613       |\n",
      "|    500     |   10  |   sqrt   |      0.626       |\n",
      "|    500     |   10  |   log2   |      0.614       |\n",
      "|    500     |   11  |   sqrt   |      0.626       |\n",
      "|    500     |   11  |   log2   |      0.614       |\n",
      "|    500     |   12  |   sqrt   |      0.626       |\n",
      "|    500     |   12  |   log2   |      0.614       |\n",
      "|    500     |   13  |   sqrt   |      0.626       |\n",
      "|    500     |   13  |   log2   |      0.614       |\n",
      "|    500     |   14  |   sqrt   |      0.626       |\n",
      "|    500     |   14  |   log2   |      0.614       |\n",
      "+------------+-------+----------+------------------+\n"
     ]
    }
   ],
   "source": [
    "myTable = PrettyTable(['estimators', 'depth', 'features', 'avg macro-recall'])\n",
    "for row in hyperparameter_score_list:\n",
    "    myTable.add_row([row[0], row[1], row[2], round(row[3],3)])\n",
    "print(myTable)"
   ]
  },
  {
   "cell_type": "code",
   "execution_count": 23,
   "metadata": {},
   "outputs": [
    {
     "name": "stdout",
     "output_type": "stream",
     "text": [
      "[200, 3, 'sqrt', 0.5948609803021135]\n",
      "[200, 4, 'sqrt', 0.6141232409372357]\n",
      "[200, 6, 'sqrt', 0.6225318267254395]\n",
      "[200, 7, 'sqrt', 0.6259754386686881]\n",
      "[300, 6, 'sqrt', 0.6262990089484266]\n",
      "[400, 6, 'sqrt', 0.631446686201503]\n"
     ]
    }
   ],
   "source": [
    "max_hyper = [0, 0]\n",
    "for i in range(len(hyperparameter_score_list)):\n",
    "    if hyperparameter_score_list[i][3] > max_hyper[1]:\n",
    "        max_hyper[1] = hyperparameter_score_list[i][3]\n",
    "        max_hyper[0] = i\n",
    "        print(hyperparameter_score_list[i])"
   ]
  },
  {
   "cell_type": "code",
   "execution_count": 32,
   "metadata": {},
   "outputs": [
    {
     "data": {
      "text/html": [
       "<style>#sk-container-id-2 {color: black;background-color: white;}#sk-container-id-2 pre{padding: 0;}#sk-container-id-2 div.sk-toggleable {background-color: white;}#sk-container-id-2 label.sk-toggleable__label {cursor: pointer;display: block;width: 100%;margin-bottom: 0;padding: 0.3em;box-sizing: border-box;text-align: center;}#sk-container-id-2 label.sk-toggleable__label-arrow:before {content: \"▸\";float: left;margin-right: 0.25em;color: #696969;}#sk-container-id-2 label.sk-toggleable__label-arrow:hover:before {color: black;}#sk-container-id-2 div.sk-estimator:hover label.sk-toggleable__label-arrow:before {color: black;}#sk-container-id-2 div.sk-toggleable__content {max-height: 0;max-width: 0;overflow: hidden;text-align: left;background-color: #f0f8ff;}#sk-container-id-2 div.sk-toggleable__content pre {margin: 0.2em;color: black;border-radius: 0.25em;background-color: #f0f8ff;}#sk-container-id-2 input.sk-toggleable__control:checked~div.sk-toggleable__content {max-height: 200px;max-width: 100%;overflow: auto;}#sk-container-id-2 input.sk-toggleable__control:checked~label.sk-toggleable__label-arrow:before {content: \"▾\";}#sk-container-id-2 div.sk-estimator input.sk-toggleable__control:checked~label.sk-toggleable__label {background-color: #d4ebff;}#sk-container-id-2 div.sk-label input.sk-toggleable__control:checked~label.sk-toggleable__label {background-color: #d4ebff;}#sk-container-id-2 input.sk-hidden--visually {border: 0;clip: rect(1px 1px 1px 1px);clip: rect(1px, 1px, 1px, 1px);height: 1px;margin: -1px;overflow: hidden;padding: 0;position: absolute;width: 1px;}#sk-container-id-2 div.sk-estimator {font-family: monospace;background-color: #f0f8ff;border: 1px dotted black;border-radius: 0.25em;box-sizing: border-box;margin-bottom: 0.5em;}#sk-container-id-2 div.sk-estimator:hover {background-color: #d4ebff;}#sk-container-id-2 div.sk-parallel-item::after {content: \"\";width: 100%;border-bottom: 1px solid gray;flex-grow: 1;}#sk-container-id-2 div.sk-label:hover label.sk-toggleable__label {background-color: #d4ebff;}#sk-container-id-2 div.sk-serial::before {content: \"\";position: absolute;border-left: 1px solid gray;box-sizing: border-box;top: 0;bottom: 0;left: 50%;z-index: 0;}#sk-container-id-2 div.sk-serial {display: flex;flex-direction: column;align-items: center;background-color: white;padding-right: 0.2em;padding-left: 0.2em;position: relative;}#sk-container-id-2 div.sk-item {position: relative;z-index: 1;}#sk-container-id-2 div.sk-parallel {display: flex;align-items: stretch;justify-content: center;background-color: white;position: relative;}#sk-container-id-2 div.sk-item::before, #sk-container-id-2 div.sk-parallel-item::before {content: \"\";position: absolute;border-left: 1px solid gray;box-sizing: border-box;top: 0;bottom: 0;left: 50%;z-index: -1;}#sk-container-id-2 div.sk-parallel-item {display: flex;flex-direction: column;z-index: 1;position: relative;background-color: white;}#sk-container-id-2 div.sk-parallel-item:first-child::after {align-self: flex-end;width: 50%;}#sk-container-id-2 div.sk-parallel-item:last-child::after {align-self: flex-start;width: 50%;}#sk-container-id-2 div.sk-parallel-item:only-child::after {width: 0;}#sk-container-id-2 div.sk-dashed-wrapped {border: 1px dashed gray;margin: 0 0.4em 0.5em 0.4em;box-sizing: border-box;padding-bottom: 0.4em;background-color: white;}#sk-container-id-2 div.sk-label label {font-family: monospace;font-weight: bold;display: inline-block;line-height: 1.2em;}#sk-container-id-2 div.sk-label-container {text-align: center;}#sk-container-id-2 div.sk-container {/* jupyter's `normalize.less` sets `[hidden] { display: none; }` but bootstrap.min.css set `[hidden] { display: none !important; }` so we also need the `!important` here to be able to override the default hidden behavior on the sphinx rendered scikit-learn.org. See: https://github.com/scikit-learn/scikit-learn/issues/21755 */display: inline-block !important;position: relative;}#sk-container-id-2 div.sk-text-repr-fallback {display: none;}</style><div id=\"sk-container-id-2\" class=\"sk-top-container\"><div class=\"sk-text-repr-fallback\"><pre>BalancedRandomForestClassifier(max_depth=6, n_estimators=400, random_state=513,\n",
       "                               replacement=True, sampling_strategy=&#x27;all&#x27;)</pre><b>In a Jupyter environment, please rerun this cell to show the HTML representation or trust the notebook. <br />On GitHub, the HTML representation is unable to render, please try loading this page with nbviewer.org.</b></div><div class=\"sk-container\" hidden><div class=\"sk-item\"><div class=\"sk-estimator sk-toggleable\"><input class=\"sk-toggleable__control sk-hidden--visually\" id=\"sk-estimator-id-2\" type=\"checkbox\" checked><label for=\"sk-estimator-id-2\" class=\"sk-toggleable__label sk-toggleable__label-arrow\">BalancedRandomForestClassifier</label><div class=\"sk-toggleable__content\"><pre>BalancedRandomForestClassifier(max_depth=6, n_estimators=400, random_state=513,\n",
       "                               replacement=True, sampling_strategy=&#x27;all&#x27;)</pre></div></div></div></div></div>"
      ],
      "text/plain": [
       "BalancedRandomForestClassifier(max_depth=6, n_estimators=400, random_state=513,\n",
       "                               replacement=True, sampling_strategy='all')"
      ]
     },
     "execution_count": 32,
     "metadata": {},
     "output_type": "execute_result"
    }
   ],
   "source": [
    "clf = BalancedRandomForestClassifier(sampling_strategy=\"all\", replacement=True, random_state=513, n_estimators = 400, max_depth = 6, max_features = 'sqrt')\n",
    "clf.fit(X_train, y_train)"
   ]
  },
  {
   "cell_type": "code",
   "execution_count": 33,
   "metadata": {},
   "outputs": [],
   "source": [
    "y_pred = clf.predict(X_test)"
   ]
  },
  {
   "cell_type": "markdown",
   "metadata": {},
   "source": [
    "**Reporte de metricas**"
   ]
  },
  {
   "cell_type": "code",
   "execution_count": 35,
   "metadata": {},
   "outputs": [
    {
     "name": "stdout",
     "output_type": "stream",
     "text": [
      "              precision    recall  f1-score   support\n",
      "\n",
      "        SLSN       0.35      1.00      0.52         7\n",
      "        SNII       0.81      0.64      0.72        73\n",
      "        SNIa       0.92      0.77      0.84       286\n",
      "       SNIbc       0.13      0.50      0.21        18\n",
      "\n",
      "    accuracy                           0.74       384\n",
      "   macro avg       0.55      0.73      0.57       384\n",
      "weighted avg       0.86      0.74      0.78       384\n",
      "\n"
     ]
    }
   ],
   "source": [
    "print(classification_report(y_test, y_pred, target_names = clf.classes_))"
   ]
  },
  {
   "cell_type": "markdown",
   "metadata": {},
   "source": [
    "**Matriz de confusion**"
   ]
  },
  {
   "cell_type": "code",
   "execution_count": 36,
   "metadata": {},
   "outputs": [
    {
     "data": {
      "text/plain": [
       "<sklearn.metrics._plot.confusion_matrix.ConfusionMatrixDisplay at 0x7f7a935d3340>"
      ]
     },
     "execution_count": 36,
     "metadata": {},
     "output_type": "execute_result"
    },
    {
     "data": {
      "image/png": "[encoded data removed]",
      "text/plain": [
       "<Figure size 432x288 with 2 Axes>"
      ]
     },
     "metadata": {
      "needs_background": "light"
     },
     "output_type": "display_data"
    }
   ],
   "source": [
    "ConfusionMatrixDisplay.from_predictions(y_test, y_pred, cmap=plt.cm.Blues, normalize=\"true\")"
   ]
  },
  {
   "cell_type": "markdown",
   "metadata": {
    "jp-MarkdownHeadingCollapsed": true,
    "tags": []
   },
   "source": [
    "### KNN"
   ]
  },
  {
   "cell_type": "code",
   "execution_count": 37,
   "metadata": {},
   "outputs": [],
   "source": [
    "hyperparameter_score_list2 = []\n",
    "for p in range(1,4):\n",
    "    for neighbor in range(2,10):\n",
    "        for weight in ['uniform', 'distance']:\n",
    "            for algorithm in ['ball_tree', 'kd_tree']:\n",
    "                knn = KNeighborsClassifier(p=p, n_neighbors=neighbor, weights = weight,  algorithm = algorithm)\n",
    "                scores = cross_validate(brfc, X_train, y_train, cv=5, scoring='recall_macro')\n",
    "                mean_score = np.mean(scores['test_score'])\n",
    "                hyperparameter_score_list2.append([p, neighbor, weight, algorithm, mean_score])"
   ]
  },
  {
   "cell_type": "code",
   "execution_count": 38,
   "metadata": {},
   "outputs": [
    {
     "data": {
      "text/plain": [
       "[[1, 2, 'uniform', 'ball_tree', 0.6138778022093133],\n",
       " [1, 2, 'uniform', 'kd_tree', 0.6138778022093133],\n",
       " [1, 2, 'distance', 'ball_tree', 0.6138778022093133]]"
      ]
     },
     "execution_count": 38,
     "metadata": {},
     "output_type": "execute_result"
    }
   ],
   "source": [
    "hyperparameter_score_list2[:3]"
   ]
  },
  {
   "cell_type": "code",
   "execution_count": 39,
   "metadata": {},
   "outputs": [
    {
     "name": "stdout",
     "output_type": "stream",
     "text": [
      "+---+----------+----------+-----------+------------------+\n",
      "| p | neighbor |  weight  | algorithm | avg macro-recall |\n",
      "+---+----------+----------+-----------+------------------+\n",
      "| 1 |    2     | uniform  | ball_tree |      0.614       |\n",
      "| 1 |    2     | uniform  |  kd_tree  |      0.614       |\n",
      "| 1 |    2     | distance | ball_tree |      0.614       |\n",
      "| 1 |    2     | distance |  kd_tree  |      0.614       |\n",
      "| 1 |    3     | uniform  | ball_tree |      0.614       |\n",
      "| 1 |    3     | uniform  |  kd_tree  |      0.614       |\n",
      "| 1 |    3     | distance | ball_tree |      0.614       |\n",
      "| 1 |    3     | distance |  kd_tree  |      0.614       |\n",
      "| 1 |    4     | uniform  | ball_tree |      0.614       |\n",
      "| 1 |    4     | uniform  |  kd_tree  |      0.614       |\n",
      "| 1 |    4     | distance | ball_tree |      0.614       |\n",
      "| 1 |    4     | distance |  kd_tree  |      0.614       |\n",
      "| 1 |    5     | uniform  | ball_tree |      0.614       |\n",
      "| 1 |    5     | uniform  |  kd_tree  |      0.614       |\n",
      "| 1 |    5     | distance | ball_tree |      0.614       |\n",
      "| 1 |    5     | distance |  kd_tree  |      0.614       |\n",
      "| 1 |    6     | uniform  | ball_tree |      0.614       |\n",
      "| 1 |    6     | uniform  |  kd_tree  |      0.614       |\n",
      "| 1 |    6     | distance | ball_tree |      0.614       |\n",
      "| 1 |    6     | distance |  kd_tree  |      0.614       |\n",
      "| 1 |    7     | uniform  | ball_tree |      0.614       |\n",
      "| 1 |    7     | uniform  |  kd_tree  |      0.614       |\n",
      "| 1 |    7     | distance | ball_tree |      0.614       |\n",
      "| 1 |    7     | distance |  kd_tree  |      0.614       |\n",
      "| 1 |    8     | uniform  | ball_tree |      0.614       |\n",
      "| 1 |    8     | uniform  |  kd_tree  |      0.614       |\n",
      "| 1 |    8     | distance | ball_tree |      0.614       |\n",
      "| 1 |    8     | distance |  kd_tree  |      0.614       |\n",
      "| 1 |    9     | uniform  | ball_tree |      0.614       |\n",
      "| 1 |    9     | uniform  |  kd_tree  |      0.614       |\n",
      "| 1 |    9     | distance | ball_tree |      0.614       |\n",
      "| 1 |    9     | distance |  kd_tree  |      0.614       |\n",
      "| 2 |    2     | uniform  | ball_tree |      0.614       |\n",
      "| 2 |    2     | uniform  |  kd_tree  |      0.614       |\n",
      "| 2 |    2     | distance | ball_tree |      0.614       |\n",
      "| 2 |    2     | distance |  kd_tree  |      0.614       |\n",
      "| 2 |    3     | uniform  | ball_tree |      0.614       |\n",
      "| 2 |    3     | uniform  |  kd_tree  |      0.614       |\n",
      "| 2 |    3     | distance | ball_tree |      0.614       |\n",
      "| 2 |    3     | distance |  kd_tree  |      0.614       |\n",
      "| 2 |    4     | uniform  | ball_tree |      0.614       |\n",
      "| 2 |    4     | uniform  |  kd_tree  |      0.614       |\n",
      "| 2 |    4     | distance | ball_tree |      0.614       |\n",
      "| 2 |    4     | distance |  kd_tree  |      0.614       |\n",
      "| 2 |    5     | uniform  | ball_tree |      0.614       |\n",
      "| 2 |    5     | uniform  |  kd_tree  |      0.614       |\n",
      "| 2 |    5     | distance | ball_tree |      0.614       |\n",
      "| 2 |    5     | distance |  kd_tree  |      0.614       |\n",
      "| 2 |    6     | uniform  | ball_tree |      0.614       |\n",
      "| 2 |    6     | uniform  |  kd_tree  |      0.614       |\n",
      "| 2 |    6     | distance | ball_tree |      0.614       |\n",
      "| 2 |    6     | distance |  kd_tree  |      0.614       |\n",
      "| 2 |    7     | uniform  | ball_tree |      0.614       |\n",
      "| 2 |    7     | uniform  |  kd_tree  |      0.614       |\n",
      "| 2 |    7     | distance | ball_tree |      0.614       |\n",
      "| 2 |    7     | distance |  kd_tree  |      0.614       |\n",
      "| 2 |    8     | uniform  | ball_tree |      0.614       |\n",
      "| 2 |    8     | uniform  |  kd_tree  |      0.614       |\n",
      "| 2 |    8     | distance | ball_tree |      0.614       |\n",
      "| 2 |    8     | distance |  kd_tree  |      0.614       |\n",
      "| 2 |    9     | uniform  | ball_tree |      0.614       |\n",
      "| 2 |    9     | uniform  |  kd_tree  |      0.614       |\n",
      "| 2 |    9     | distance | ball_tree |      0.614       |\n",
      "| 2 |    9     | distance |  kd_tree  |      0.614       |\n",
      "| 3 |    2     | uniform  | ball_tree |      0.614       |\n",
      "| 3 |    2     | uniform  |  kd_tree  |      0.614       |\n",
      "| 3 |    2     | distance | ball_tree |      0.614       |\n",
      "| 3 |    2     | distance |  kd_tree  |      0.614       |\n",
      "| 3 |    3     | uniform  | ball_tree |      0.614       |\n",
      "| 3 |    3     | uniform  |  kd_tree  |      0.614       |\n",
      "| 3 |    3     | distance | ball_tree |      0.614       |\n",
      "| 3 |    3     | distance |  kd_tree  |      0.614       |\n",
      "| 3 |    4     | uniform  | ball_tree |      0.614       |\n",
      "| 3 |    4     | uniform  |  kd_tree  |      0.614       |\n",
      "| 3 |    4     | distance | ball_tree |      0.614       |\n",
      "| 3 |    4     | distance |  kd_tree  |      0.614       |\n",
      "| 3 |    5     | uniform  | ball_tree |      0.614       |\n",
      "| 3 |    5     | uniform  |  kd_tree  |      0.614       |\n",
      "| 3 |    5     | distance | ball_tree |      0.614       |\n",
      "| 3 |    5     | distance |  kd_tree  |      0.614       |\n",
      "| 3 |    6     | uniform  | ball_tree |      0.614       |\n",
      "| 3 |    6     | uniform  |  kd_tree  |      0.614       |\n",
      "| 3 |    6     | distance | ball_tree |      0.614       |\n",
      "| 3 |    6     | distance |  kd_tree  |      0.614       |\n",
      "| 3 |    7     | uniform  | ball_tree |      0.614       |\n",
      "| 3 |    7     | uniform  |  kd_tree  |      0.614       |\n",
      "| 3 |    7     | distance | ball_tree |      0.614       |\n",
      "| 3 |    7     | distance |  kd_tree  |      0.614       |\n",
      "| 3 |    8     | uniform  | ball_tree |      0.614       |\n",
      "| 3 |    8     | uniform  |  kd_tree  |      0.614       |\n",
      "| 3 |    8     | distance | ball_tree |      0.614       |\n",
      "| 3 |    8     | distance |  kd_tree  |      0.614       |\n",
      "| 3 |    9     | uniform  | ball_tree |      0.614       |\n",
      "| 3 |    9     | uniform  |  kd_tree  |      0.614       |\n",
      "| 3 |    9     | distance | ball_tree |      0.614       |\n",
      "| 3 |    9     | distance |  kd_tree  |      0.614       |\n",
      "+---+----------+----------+-----------+------------------+\n"
     ]
    }
   ],
   "source": [
    "myTable2 = PrettyTable(['p', 'neighbor', 'weight', 'algorithm', 'avg macro-recall'])\n",
    "for row in hyperparameter_score_list2:\n",
    "    myTable2.add_row([row[0], row[1], row[2], row[3], round(row[4],3)])\n",
    "print(myTable2)"
   ]
  },
  {
   "cell_type": "code",
   "execution_count": 41,
   "metadata": {},
   "outputs": [
    {
     "name": "stdout",
     "output_type": "stream",
     "text": [
      "[1, 2, 'uniform', 'ball_tree', 0.6138778022093133]\n"
     ]
    }
   ],
   "source": [
    "max_hyper2 = [0, 0]\n",
    "for i in range(len(hyperparameter_score_list2)):\n",
    "    if hyperparameter_score_list2[i][4] > max_hyper2[1]:\n",
    "        max_hyper2[1] = hyperparameter_score_list2[i][4]\n",
    "        max_hyper2[0] = i\n",
    "        print(hyperparameter_score_list2[i])"
   ]
  },
  {
   "cell_type": "code",
   "execution_count": 43,
   "metadata": {},
   "outputs": [],
   "source": [
    "clf2 = KNeighborsClassifier(p=1, n_neighbors=2, weights = 'uniform',  algorithm = 'ball_tree')\n",
    "\n",
    "clf2.fit(X_train, y_train)\n",
    "y_pred = clf2.predict(X_test)"
   ]
  },
  {
   "cell_type": "code",
   "execution_count": 44,
   "metadata": {},
   "outputs": [
    {
     "name": "stdout",
     "output_type": "stream",
     "text": [
      "              precision    recall  f1-score   support\n",
      "\n",
      "        SLSN       0.15      0.29      0.20         7\n",
      "        SNII       0.56      0.64      0.60        73\n",
      "        SNIa       0.89      0.89      0.89       286\n",
      "       SNIbc       1.00      0.06      0.11        18\n",
      "\n",
      "    accuracy                           0.79       384\n",
      "   macro avg       0.65      0.47      0.45       384\n",
      "weighted avg       0.82      0.79      0.79       384\n",
      "\n"
     ]
    }
   ],
   "source": [
    "print(classification_report(y_test, y_pred, target_names = clf2.classes_))"
   ]
  },
  {
   "cell_type": "code",
   "execution_count": 45,
   "metadata": {},
   "outputs": [
    {
     "data": {
      "text/plain": [
       "<sklearn.metrics._plot.confusion_matrix.ConfusionMatrixDisplay at 0x7f7a92452be0>"
      ]
     },
     "execution_count": 45,
     "metadata": {},
     "output_type": "execute_result"
    },
    {
     "data": {
      "image/png": "[encoded data removed]",
      "text/plain": [
       "<Figure size 432x288 with 2 Axes>"
      ]
     },
     "metadata": {
      "needs_background": "light"
     },
     "output_type": "display_data"
    }
   ],
   "source": [
    "ConfusionMatrixDisplay.from_predictions(y_test, y_pred, cmap=plt.cm.Blues, normalize=\"true\")"
   ]
  },
  {
   "cell_type": "markdown",
   "metadata": {
    "tags": []
   },
   "source": [
    "### GBoost"
   ]
  },
  {
   "cell_type": "markdown",
   "metadata": {
    "tags": []
   },
   "source": [
    "#### Undersampling"
   ]
  },
  {
   "cell_type": "code",
   "execution_count": 13,
   "metadata": {},
   "outputs": [],
   "source": [
    "rus = RandomUnderSampler(random_state=513)"
   ]
  },
  {
   "cell_type": "code",
   "execution_count": 20,
   "metadata": {},
   "outputs": [],
   "source": [
    "X_train_res, y_train_res = rus.fit_resample(X_train, y_train)"
   ]
  },
  {
   "cell_type": "code",
   "execution_count": 24,
   "metadata": {},
   "outputs": [],
   "source": [
    "hyperparameter_score_list3 = []\n",
    "\n",
    "for estimators in [200, 300, 400, 500]:\n",
    "    for depth in range(3,15):\n",
    "        for features in ['sqrt', 'log2']:\n",
    "            gbc = GradientBoostingClassifier(n_estimators = estimators, max_depth = depth, max_features = features, random_state=0)\n",
    "            scores = cross_validate(gbc, X_train_res, y_train_res, cv=5, scoring='recall_macro')\n",
    "            mean_score = np.mean(scores['test_score'])\n",
    "            hyperparameter_score_list3.append([estimators, depth, features, mean_score])"
   ]
  },
  {
   "cell_type": "code",
   "execution_count": 25,
   "metadata": {},
   "outputs": [
    {
     "name": "stdout",
     "output_type": "stream",
     "text": [
      "+------------+-------+----------+------------------+\n",
      "| estimators | depth | features | avg macro-recall |\n",
      "+------------+-------+----------+------------------+\n",
      "|    200     |   3   |   sqrt   |      0.542       |\n",
      "|    200     |   3   |   log2   |       0.59       |\n",
      "|    200     |   4   |   sqrt   |      0.588       |\n",
      "|    200     |   4   |   log2   |      0.597       |\n",
      "|    200     |   5   |   sqrt   |       0.58       |\n",
      "|    200     |   5   |   log2   |      0.578       |\n",
      "|    200     |   6   |   sqrt   |      0.595       |\n",
      "|    200     |   6   |   log2   |      0.553       |\n",
      "|    200     |   7   |   sqrt   |      0.595       |\n",
      "|    200     |   7   |   log2   |      0.578       |\n",
      "|    200     |   8   |   sqrt   |      0.562       |\n",
      "|    200     |   8   |   log2   |      0.552       |\n",
      "|    200     |   9   |   sqrt   |      0.597       |\n",
      "|    200     |   9   |   log2   |      0.578       |\n",
      "|    200     |   10  |   sqrt   |       0.56       |\n",
      "|    200     |   10  |   log2   |       0.58       |\n",
      "|    200     |   11  |   sqrt   |       0.57       |\n",
      "|    200     |   11  |   log2   |      0.623       |\n",
      "|    200     |   12  |   sqrt   |      0.587       |\n",
      "|    200     |   12  |   log2   |      0.608       |\n",
      "|    200     |   13  |   sqrt   |      0.567       |\n",
      "|    200     |   13  |   log2   |       0.6        |\n",
      "|    200     |   14  |   sqrt   |      0.577       |\n",
      "|    200     |   14  |   log2   |      0.592       |\n",
      "|    300     |   3   |   sqrt   |       0.55       |\n",
      "|    300     |   3   |   log2   |       0.58       |\n",
      "|    300     |   4   |   sqrt   |      0.597       |\n",
      "|    300     |   4   |   log2   |      0.597       |\n",
      "|    300     |   5   |   sqrt   |       0.58       |\n",
      "|    300     |   5   |   log2   |      0.578       |\n",
      "|    300     |   6   |   sqrt   |      0.595       |\n",
      "|    300     |   6   |   log2   |      0.553       |\n",
      "|    300     |   7   |   sqrt   |      0.595       |\n",
      "|    300     |   7   |   log2   |      0.578       |\n",
      "|    300     |   8   |   sqrt   |      0.562       |\n",
      "|    300     |   8   |   log2   |      0.552       |\n",
      "|    300     |   9   |   sqrt   |      0.597       |\n",
      "|    300     |   9   |   log2   |      0.578       |\n",
      "|    300     |   10  |   sqrt   |       0.56       |\n",
      "|    300     |   10  |   log2   |       0.58       |\n",
      "|    300     |   11  |   sqrt   |       0.57       |\n",
      "|    300     |   11  |   log2   |      0.623       |\n",
      "|    300     |   12  |   sqrt   |      0.587       |\n",
      "|    300     |   12  |   log2   |      0.608       |\n",
      "|    300     |   13  |   sqrt   |      0.567       |\n",
      "|    300     |   13  |   log2   |       0.6        |\n",
      "|    300     |   14  |   sqrt   |      0.577       |\n",
      "|    300     |   14  |   log2   |      0.592       |\n",
      "|    400     |   3   |   sqrt   |       0.55       |\n",
      "|    400     |   3   |   log2   |       0.58       |\n",
      "|    400     |   4   |   sqrt   |      0.597       |\n",
      "|    400     |   4   |   log2   |      0.597       |\n",
      "|    400     |   5   |   sqrt   |       0.58       |\n",
      "|    400     |   5   |   log2   |      0.578       |\n",
      "|    400     |   6   |   sqrt   |      0.595       |\n",
      "|    400     |   6   |   log2   |      0.553       |\n",
      "|    400     |   7   |   sqrt   |      0.595       |\n",
      "|    400     |   7   |   log2   |      0.578       |\n",
      "|    400     |   8   |   sqrt   |      0.562       |\n",
      "|    400     |   8   |   log2   |      0.552       |\n",
      "|    400     |   9   |   sqrt   |      0.597       |\n",
      "|    400     |   9   |   log2   |      0.578       |\n",
      "|    400     |   10  |   sqrt   |       0.56       |\n",
      "|    400     |   10  |   log2   |       0.58       |\n",
      "|    400     |   11  |   sqrt   |       0.57       |\n",
      "|    400     |   11  |   log2   |      0.623       |\n",
      "|    400     |   12  |   sqrt   |      0.587       |\n",
      "|    400     |   12  |   log2   |      0.608       |\n",
      "|    400     |   13  |   sqrt   |      0.567       |\n",
      "|    400     |   13  |   log2   |       0.6        |\n",
      "|    400     |   14  |   sqrt   |      0.577       |\n",
      "|    400     |   14  |   log2   |      0.592       |\n",
      "|    500     |   3   |   sqrt   |       0.55       |\n",
      "|    500     |   3   |   log2   |       0.58       |\n",
      "|    500     |   4   |   sqrt   |      0.597       |\n",
      "|    500     |   4   |   log2   |      0.597       |\n",
      "|    500     |   5   |   sqrt   |       0.58       |\n",
      "|    500     |   5   |   log2   |      0.578       |\n",
      "|    500     |   6   |   sqrt   |      0.595       |\n",
      "|    500     |   6   |   log2   |      0.553       |\n",
      "|    500     |   7   |   sqrt   |      0.595       |\n",
      "|    500     |   7   |   log2   |      0.578       |\n",
      "|    500     |   8   |   sqrt   |      0.562       |\n",
      "|    500     |   8   |   log2   |      0.552       |\n",
      "|    500     |   9   |   sqrt   |      0.597       |\n",
      "|    500     |   9   |   log2   |      0.578       |\n",
      "|    500     |   10  |   sqrt   |       0.56       |\n",
      "|    500     |   10  |   log2   |       0.58       |\n",
      "|    500     |   11  |   sqrt   |       0.57       |\n",
      "|    500     |   11  |   log2   |      0.623       |\n",
      "|    500     |   12  |   sqrt   |      0.587       |\n",
      "|    500     |   12  |   log2   |      0.608       |\n",
      "|    500     |   13  |   sqrt   |      0.567       |\n",
      "|    500     |   13  |   log2   |       0.6        |\n",
      "|    500     |   14  |   sqrt   |      0.577       |\n",
      "|    500     |   14  |   log2   |      0.592       |\n",
      "+------------+-------+----------+------------------+\n"
     ]
    }
   ],
   "source": [
    "myTable3 = PrettyTable(['estimators', 'depth', 'features', 'avg macro-recall'])\n",
    "for row in hyperparameter_score_list3:\n",
    "    myTable3.add_row([row[0], row[1], row[2], round(row[3],3)])\n",
    "print(myTable3)"
   ]
  },
  {
   "cell_type": "code",
   "execution_count": 26,
   "metadata": {},
   "outputs": [
    {
     "name": "stdout",
     "output_type": "stream",
     "text": [
      "[200, 3, 'sqrt', 0.5416666666666667]\n",
      "[200, 3, 'log2', 0.59]\n",
      "[200, 4, 'log2', 0.5966666666666667]\n",
      "[200, 11, 'log2', 0.6233333333333333]\n"
     ]
    }
   ],
   "source": [
    "max_hyper3 = [0, 0]\n",
    "for i in range(len(hyperparameter_score_list3)):\n",
    "    if hyperparameter_score_list3[i][3] > max_hyper3[1]:\n",
    "        max_hyper3[1] = hyperparameter_score_list3[i][3]\n",
    "        max_hyper3[0] = i\n",
    "        print(hyperparameter_score_list3[i])"
   ]
  },
  {
   "cell_type": "code",
   "execution_count": 27,
   "metadata": {},
   "outputs": [],
   "source": [
    "clf3 = GradientBoostingClassifier(n_estimators = 200, max_depth = 11, max_features = 'log2', random_state=513)\n",
    "clf3.fit(X_train_res, y_train_res)\n",
    "y_pred = clf3.predict(X_test)"
   ]
  },
  {
   "cell_type": "code",
   "execution_count": 28,
   "metadata": {},
   "outputs": [
    {
     "data": {
      "text/plain": [
       "<sklearn.metrics._plot.confusion_matrix.ConfusionMatrixDisplay at 0x7fe2234f06d0>"
      ]
     },
     "execution_count": 28,
     "metadata": {},
     "output_type": "execute_result"
    },
    {
     "data": {
      "image/png": "[encoded data removed]",
      "text/plain": [
       "<Figure size 432x288 with 2 Axes>"
      ]
     },
     "metadata": {
      "needs_background": "light"
     },
     "output_type": "display_data"
    }
   ],
   "source": [
    "ConfusionMatrixDisplay.from_predictions(y_test, y_pred, cmap=plt.cm.Blues, normalize=\"true\")"
   ]
  },
  {
   "cell_type": "markdown",
   "metadata": {
    "tags": []
   },
   "source": [
    "#### Oversampling"
   ]
  },
  {
   "cell_type": "code",
   "execution_count": 6,
   "metadata": {},
   "outputs": [],
   "source": [
    "ros = RandomOverSampler(random_state=513)"
   ]
  },
  {
   "cell_type": "code",
   "execution_count": 9,
   "metadata": {},
   "outputs": [],
   "source": [
    "X_train_ros, y_train_ros = ros.fit_resample(X_train, y_train)"
   ]
  },
  {
   "cell_type": "code",
   "execution_count": 10,
   "metadata": {},
   "outputs": [],
   "source": [
    "hyperparameter_score_list4 = []\n",
    "\n",
    "for estimators in [200, 300, 400, 500]:\n",
    "    for depth in range(3,15):\n",
    "        for features in ['sqrt', 'log2']:\n",
    "            gbc = GradientBoostingClassifier(n_estimators = estimators, max_depth = depth, max_features = features, random_state=0)\n",
    "            scores = cross_validate(gbc, X_train_ros, y_train_ros, cv=5, scoring='recall_macro')\n",
    "            mean_score = np.mean(scores['test_score'])\n",
    "            hyperparameter_score_list4.append([estimators, depth, features, mean_score])"
   ]
  },
  {
   "cell_type": "code",
   "execution_count": 11,
   "metadata": {},
   "outputs": [
    {
     "name": "stdout",
     "output_type": "stream",
     "text": [
      "+------------+-------+----------+------------------+\n",
      "| estimators | depth | features | avg macro-recall |\n",
      "+------------+-------+----------+------------------+\n",
      "|    200     |   3   |   sqrt   |      0.986       |\n",
      "|    200     |   3   |   log2   |      0.985       |\n",
      "|    200     |   4   |   sqrt   |      0.991       |\n",
      "|    200     |   4   |   log2   |      0.991       |\n",
      "|    200     |   5   |   sqrt   |      0.991       |\n",
      "|    200     |   5   |   log2   |      0.992       |\n",
      "|    200     |   6   |   sqrt   |      0.993       |\n",
      "|    200     |   6   |   log2   |      0.993       |\n",
      "|    200     |   7   |   sqrt   |      0.993       |\n",
      "|    200     |   7   |   log2   |      0.994       |\n",
      "|    200     |   8   |   sqrt   |      0.995       |\n",
      "|    200     |   8   |   log2   |      0.994       |\n",
      "|    200     |   9   |   sqrt   |      0.995       |\n",
      "|    200     |   9   |   log2   |      0.995       |\n",
      "|    200     |   10  |   sqrt   |      0.995       |\n",
      "|    200     |   10  |   log2   |      0.996       |\n",
      "|    200     |   11  |   sqrt   |      0.995       |\n",
      "|    200     |   11  |   log2   |      0.995       |\n",
      "|    200     |   12  |   sqrt   |      0.995       |\n",
      "|    200     |   12  |   log2   |      0.997       |\n",
      "|    200     |   13  |   sqrt   |      0.996       |\n",
      "|    200     |   13  |   log2   |      0.997       |\n",
      "|    200     |   14  |   sqrt   |      0.996       |\n",
      "|    200     |   14  |   log2   |      0.995       |\n",
      "|    300     |   3   |   sqrt   |      0.988       |\n",
      "|    300     |   3   |   log2   |      0.989       |\n",
      "|    300     |   4   |   sqrt   |      0.991       |\n",
      "|    300     |   4   |   log2   |      0.991       |\n",
      "|    300     |   5   |   sqrt   |      0.992       |\n",
      "|    300     |   5   |   log2   |      0.993       |\n",
      "|    300     |   6   |   sqrt   |      0.993       |\n",
      "|    300     |   6   |   log2   |      0.993       |\n",
      "|    300     |   7   |   sqrt   |      0.993       |\n",
      "|    300     |   7   |   log2   |      0.994       |\n",
      "|    300     |   8   |   sqrt   |      0.995       |\n",
      "|    300     |   8   |   log2   |      0.994       |\n",
      "|    300     |   9   |   sqrt   |      0.995       |\n",
      "|    300     |   9   |   log2   |      0.995       |\n",
      "|    300     |   10  |   sqrt   |      0.995       |\n",
      "|    300     |   10  |   log2   |      0.996       |\n",
      "|    300     |   11  |   sqrt   |      0.995       |\n",
      "|    300     |   11  |   log2   |      0.995       |\n",
      "|    300     |   12  |   sqrt   |      0.995       |\n",
      "|    300     |   12  |   log2   |      0.997       |\n",
      "|    300     |   13  |   sqrt   |      0.996       |\n",
      "|    300     |   13  |   log2   |      0.997       |\n",
      "|    300     |   14  |   sqrt   |      0.996       |\n",
      "|    300     |   14  |   log2   |      0.995       |\n",
      "|    400     |   3   |   sqrt   |      0.989       |\n",
      "|    400     |   3   |   log2   |       0.99       |\n",
      "|    400     |   4   |   sqrt   |      0.991       |\n",
      "|    400     |   4   |   log2   |      0.991       |\n",
      "|    400     |   5   |   sqrt   |      0.992       |\n",
      "|    400     |   5   |   log2   |      0.993       |\n",
      "|    400     |   6   |   sqrt   |      0.993       |\n",
      "|    400     |   6   |   log2   |      0.994       |\n",
      "|    400     |   7   |   sqrt   |      0.993       |\n",
      "|    400     |   7   |   log2   |      0.994       |\n",
      "|    400     |   8   |   sqrt   |      0.995       |\n",
      "|    400     |   8   |   log2   |      0.994       |\n",
      "|    400     |   9   |   sqrt   |      0.995       |\n",
      "|    400     |   9   |   log2   |      0.995       |\n",
      "|    400     |   10  |   sqrt   |      0.995       |\n",
      "|    400     |   10  |   log2   |      0.996       |\n",
      "|    400     |   11  |   sqrt   |      0.995       |\n",
      "|    400     |   11  |   log2   |      0.995       |\n",
      "|    400     |   12  |   sqrt   |      0.995       |\n",
      "|    400     |   12  |   log2   |      0.997       |\n",
      "|    400     |   13  |   sqrt   |      0.996       |\n",
      "|    400     |   13  |   log2   |      0.997       |\n",
      "|    400     |   14  |   sqrt   |      0.996       |\n",
      "|    400     |   14  |   log2   |      0.995       |\n",
      "|    500     |   3   |   sqrt   |       0.99       |\n",
      "|    500     |   3   |   log2   |       0.99       |\n",
      "|    500     |   4   |   sqrt   |      0.991       |\n",
      "|    500     |   4   |   log2   |      0.992       |\n",
      "|    500     |   5   |   sqrt   |      0.993       |\n",
      "|    500     |   5   |   log2   |      0.993       |\n",
      "|    500     |   6   |   sqrt   |      0.994       |\n",
      "|    500     |   6   |   log2   |      0.994       |\n",
      "|    500     |   7   |   sqrt   |      0.993       |\n",
      "|    500     |   7   |   log2   |      0.994       |\n",
      "|    500     |   8   |   sqrt   |      0.995       |\n",
      "|    500     |   8   |   log2   |      0.994       |\n",
      "|    500     |   9   |   sqrt   |      0.995       |\n",
      "|    500     |   9   |   log2   |      0.995       |\n",
      "|    500     |   10  |   sqrt   |      0.995       |\n",
      "|    500     |   10  |   log2   |      0.996       |\n",
      "|    500     |   11  |   sqrt   |      0.995       |\n",
      "|    500     |   11  |   log2   |      0.995       |\n",
      "|    500     |   12  |   sqrt   |      0.995       |\n",
      "|    500     |   12  |   log2   |      0.997       |\n",
      "|    500     |   13  |   sqrt   |      0.996       |\n",
      "|    500     |   13  |   log2   |      0.997       |\n",
      "|    500     |   14  |   sqrt   |      0.996       |\n",
      "|    500     |   14  |   log2   |      0.995       |\n",
      "+------------+-------+----------+------------------+\n"
     ]
    }
   ],
   "source": [
    "myTable3 = PrettyTable(['estimators', 'depth', 'features', 'avg macro-recall'])\n",
    "for row in hyperparameter_score_list4:\n",
    "    myTable3.add_row([row[0], row[1], row[2], round(row[3],3)])\n",
    "print(myTable3)"
   ]
  },
  {
   "cell_type": "code",
   "execution_count": 12,
   "metadata": {},
   "outputs": [
    {
     "name": "stdout",
     "output_type": "stream",
     "text": [
      "[200, 3, 'sqrt', 0.9862549838617809]\n",
      "[200, 4, 'sqrt', 0.9914923106132523]\n",
      "[200, 5, 'sqrt', 0.9914932599202583]\n",
      "[200, 5, 'log2', 0.9921463831403076]\n",
      "[200, 6, 'sqrt', 0.9932371368900703]\n",
      "[200, 7, 'log2', 0.9943278906398328]\n",
      "[200, 8, 'sqrt', 0.9945471805581925]\n",
      "[200, 9, 'sqrt', 0.9947655211695462]\n",
      "[200, 9, 'log2', 0.9949848110879058]\n",
      "[200, 10, 'log2', 0.995638883614961]\n",
      "[200, 12, 'log2', 0.9965122460603759]\n"
     ]
    }
   ],
   "source": [
    "max_hyper3 = [0, 0]\n",
    "for i in range(len(hyperparameter_score_list4)):\n",
    "    if hyperparameter_score_list4[i][3] > max_hyper3[1]:\n",
    "        max_hyper3[1] = hyperparameter_score_list4[i][3]\n",
    "        max_hyper3[0] = i\n",
    "        print(hyperparameter_score_list4[i])"
   ]
  },
  {
   "cell_type": "code",
   "execution_count": 14,
   "metadata": {},
   "outputs": [],
   "source": [
    "clf3 = GradientBoostingClassifier(n_estimators = 200, max_depth = 12, max_features = 'log2', random_state=513)\n",
    "clf3.fit(X_train_ros, y_train_ros)\n",
    "y_pred = clf3.predict(X_test)"
   ]
  },
  {
   "cell_type": "code",
   "execution_count": 15,
   "metadata": {},
   "outputs": [
    {
     "data": {
      "text/plain": [
       "<sklearn.metrics._plot.confusion_matrix.ConfusionMatrixDisplay at 0x7f9369c86460>"
      ]
     },
     "execution_count": 15,
     "metadata": {},
     "output_type": "execute_result"
    },
    {
     "data": {
      "image/png": "[encoded data removed]",
      "text/plain": [
       "<Figure size 432x288 with 2 Axes>"
      ]
     },
     "metadata": {
      "needs_background": "light"
     },
     "output_type": "display_data"
    }
   ],
   "source": [
    "ConfusionMatrixDisplay.from_predictions(y_test, y_pred, cmap=plt.cm.Blues, normalize=\"true\")"
   ]
  },
  {
   "cell_type": "code",
   "execution_count": null,
   "metadata": {},
   "outputs": [],
   "source": []
  }
 ],
 "metadata": {
  "colab": {
   "provenance": []
  },
  "kernelspec": {
   "display_name": "Python 3 (ipykernel)",
   "language": "python",
   "name": "python3"
  },
  "language_info": {
   "codemirror_mode": {
    "name": "ipython",
    "version": 3
   },
   "file_extension": ".py",
   "mimetype": "text/x-python",
   "name": "python",
   "nbconvert_exporter": "python",
   "pygments_lexer": "ipython3",
   "version": "3.9.13"
  }
 },
 "nbformat": 4,
 "nbformat_minor": 4
}
